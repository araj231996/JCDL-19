{
 "cells": [
  {
   "cell_type": "code",
   "execution_count": 1,
   "metadata": {},
   "outputs": [
    {
     "name": "stderr",
     "output_type": "stream",
     "text": [
      "Using TensorFlow backend.\n"
     ]
    }
   ],
   "source": [
    "import numpy as np\n",
    "from keras.utils import to_categorical\n",
    "from keras import models\n",
    "from keras.callbacks import ModelCheckpoint\n",
    "from keras import layers\n",
    "import pickle\n",
    "import os\n",
    "from sklearn.metrics import accuracy_score, f1_score, precision_score, recall_score, classification_report, confusion_matrix\n",
    "os.environ[\"CUDA_VISIBLE_DEVICES\"]=\"4\"\n"
   ]
  },
  {
   "cell_type": "code",
   "execution_count": 2,
   "metadata": {},
   "outputs": [],
   "source": [
    "d_feature_vector = pickle.load(open(DATA+\"_train_image_caption_feature_vector.p\", \"rb\"))\n",
    "d_feature_vector_test = pickle.load(open(DATA+\"_test_image_caption_feature_vector.p\", \"rb\"))\n",
    "\n"
   ]
  },
  {
   "cell_type": "code",
   "execution_count": 3,
   "metadata": {},
   "outputs": [
    {
     "name": "stdout",
     "output_type": "stream",
     "text": [
      "(3056, 5716)\n"
     ]
    }
   ],
   "source": [
    "\n",
    "x_train = []\n",
    "y_train = []\n",
    "for i in d_feature_vector.keys():\n",
    "    x_train.append(d_feature_vector[i])\n",
    "    label = 1.0\n",
    "    if i.startswith(\"neg_\"):\n",
    "        label = 0.0\n",
    "    y_train.append(label)\n",
    "x_train = np.array(x_train)\n",
    "y_train = np.array(y_train)\n",
    "\n",
    "print(x_train.shape)\n"
   ]
  },
  {
   "cell_type": "code",
   "execution_count": 4,
   "metadata": {},
   "outputs": [
    {
     "name": "stdout",
     "output_type": "stream",
     "text": [
      "(768, 5716)\n"
     ]
    }
   ],
   "source": [
    "\n",
    "x_test = []\n",
    "y_test = []\n",
    "for i in d_feature_vector_test.keys():\n",
    "    x_test.append(d_feature_vector_test[i])\n",
    "    label = 1.0\n",
    "    if i.startswith(\"neg_\"):\n",
    "        label = 0.0\n",
    "    y_test.append(label)\n",
    "x_test = np.array(x_test)\n",
    "y_test = np.array(y_test)\n",
    "\n",
    "print(x_test.shape)\n"
   ]
  },
  {
   "cell_type": "code",
   "execution_count": 5,
   "metadata": {},
   "outputs": [
    {
     "name": "stdout",
     "output_type": "stream",
     "text": [
      "364\n"
     ]
    }
   ],
   "source": [
    "c = 0\n",
    "for i in y_test:\n",
    "    if i == 0.0:\n",
    "        c = c+ 1\n",
    "print(c)"
   ]
  },
  {
   "cell_type": "code",
   "execution_count": 9,
   "metadata": {},
   "outputs": [
    {
     "name": "stdout",
     "output_type": "stream",
     "text": [
      "_________________________________________________________________\n",
      "Layer (type)                 Output Shape              Param #   \n",
      "=================================================================\n",
      "dense_5 (Dense)              (None, 1024)              5854208   \n",
      "_________________________________________________________________\n",
      "dropout_3 (Dropout)          (None, 1024)              0         \n",
      "_________________________________________________________________\n",
      "dense_6 (Dense)              (None, 512)               524800    \n",
      "_________________________________________________________________\n",
      "dropout_4 (Dropout)          (None, 512)               0         \n",
      "_________________________________________________________________\n",
      "dense_7 (Dense)              (None, 256)               131328    \n",
      "_________________________________________________________________\n",
      "dense_8 (Dense)              (None, 1)                 257       \n",
      "=================================================================\n",
      "Total params: 6,510,593\n",
      "Trainable params: 6,510,593\n",
      "Non-trainable params: 0\n",
      "_________________________________________________________________\n"
     ]
    }
   ],
   "source": [
    "# Input - Layer\n",
    "model = models.Sequential()\n",
    "model.add(layers.Dense(1024, activation = \"relu\", input_dim=5716))\n",
    "# Hidden - Layers\n",
    "model.add(layers.Dropout(0.3, noise_shape=None, seed=None))\n",
    "model.add(layers.Dense(512, activation = \"relu\"))\n",
    "model.add(layers.Dropout(0.3, noise_shape=None, seed=None))\n",
    "model.add(layers.Dense(256, activation = \"relu\"))\n",
    "\n",
    "# Output- Layer\n",
    "model.add(layers.Dense(1, activation = \"sigmoid\"))\n",
    "\n",
    "model.summary()\n"
   ]
  },
  {
   "cell_type": "code",
   "execution_count": 10,
   "metadata": {},
   "outputs": [],
   "source": [
    "model.compile( optimizer = \"adam\", loss = \"binary_crossentropy\", metrics = [\"accuracy\"])\n",
    "checkpoint = ModelCheckpoint(DATA+'-img-caption-model-best.h5', verbose=1, monitor='val_loss',save_best_only=True, mode='auto')  \n"
   ]
  },
  {
   "cell_type": "code",
   "execution_count": 11,
   "metadata": {},
   "outputs": [
    {
     "name": "stdout",
     "output_type": "stream",
     "text": [
      "Train on 3056 samples, validate on 768 samples\n",
      "Epoch 1/10\n",
      "3056/3056 [==============================] - 7s 2ms/step - loss: 0.5573 - acc: 0.7117 - val_loss: 0.4868 - val_acc: 0.7656\n",
      "\n",
      "Epoch 00001: val_loss improved from inf to 0.48678, saving model to JNCA-img-caption-model-best.h5\n",
      "Epoch 2/10\n",
      "3056/3056 [==============================] - 1s 260us/step - loss: 0.3676 - acc: 0.8190 - val_loss: 0.5536 - val_acc: 0.7630\n",
      "\n",
      "Epoch 00002: val_loss did not improve from 0.48678\n",
      "Epoch 3/10\n",
      "3056/3056 [==============================] - 1s 238us/step - loss: 0.2668 - acc: 0.8557 - val_loss: 0.7059 - val_acc: 0.7708\n",
      "\n",
      "Epoch 00003: val_loss did not improve from 0.48678\n",
      "Epoch 4/10\n",
      "3056/3056 [==============================] - 1s 229us/step - loss: 0.2499 - acc: 0.8619 - val_loss: 0.9726 - val_acc: 0.7669\n",
      "\n",
      "Epoch 00004: val_loss did not improve from 0.48678\n",
      "Epoch 5/10\n",
      "3056/3056 [==============================] - 1s 229us/step - loss: 0.2452 - acc: 0.8639 - val_loss: 0.9447 - val_acc: 0.7682\n",
      "\n",
      "Epoch 00005: val_loss did not improve from 0.48678\n",
      "Epoch 6/10\n",
      "3056/3056 [==============================] - 1s 225us/step - loss: 0.2439 - acc: 0.8639 - val_loss: 0.9657 - val_acc: 0.7617\n",
      "\n",
      "Epoch 00006: val_loss did not improve from 0.48678\n",
      "Epoch 7/10\n",
      "3056/3056 [==============================] - 1s 231us/step - loss: 0.2434 - acc: 0.8639 - val_loss: 1.0024 - val_acc: 0.7617\n",
      "\n",
      "Epoch 00007: val_loss did not improve from 0.48678\n",
      "Epoch 8/10\n",
      "3056/3056 [==============================] - 1s 242us/step - loss: 0.2435 - acc: 0.8639 - val_loss: 1.0253 - val_acc: 0.7630\n",
      "\n",
      "Epoch 00008: val_loss did not improve from 0.48678\n",
      "Epoch 9/10\n",
      "3056/3056 [==============================] - 1s 228us/step - loss: 0.2430 - acc: 0.8639 - val_loss: 1.0472 - val_acc: 0.7591\n",
      "\n",
      "Epoch 00009: val_loss did not improve from 0.48678\n",
      "Epoch 10/10\n",
      "3056/3056 [==============================] - 1s 233us/step - loss: 0.2433 - acc: 0.8639 - val_loss: 1.0619 - val_acc: 0.7591\n",
      "\n",
      "Epoch 00010: val_loss did not improve from 0.48678\n"
     ]
    }
   ],
   "source": [
    "results = model.fit( x_train,y_train, epochs= 10, batch_size = 32,callbacks=[checkpoint], validation_data = (x_test, y_test))\n"
   ]
  },
  {
   "cell_type": "code",
   "execution_count": 12,
   "metadata": {},
   "outputs": [],
   "source": [
    "model.load_weights(DATA+'-img-caption-model-best.h5', by_name = True)\n",
    "predicted =  model.predict(x_test)\n",
    "for i in range(len(predicted)):\n",
    "    if predicted[i] >= 0.5:\n",
    "        predicted[i] = 1.0\n",
    "    else :\n",
    "        predicted[i] = 0.0"
   ]
  },
  {
   "cell_type": "code",
   "execution_count": 13,
   "metadata": {},
   "outputs": [
    {
     "name": "stdout",
     "output_type": "stream",
     "text": [
      "fscore 0.7656106940120857\n",
      "precision 0.768619702956806\n",
      "recall 0.7681155478185181\n",
      "             precision    recall  f1-score   support\n",
      "\n",
      "        0.0       0.72      0.82      0.77       364\n",
      "        1.0       0.81      0.72      0.76       404\n",
      "\n",
      "avg / total       0.77      0.77      0.77       768\n",
      "\n"
     ]
    }
   ],
   "source": [
    "print(\"fscore\",f1_score(y_test, predicted, average=\"macro\"))\n",
    "print(\"precision\",precision_score(y_test, predicted, average=\"macro\"))\n",
    "print(\"recall\",recall_score(y_test, predicted, average=\"macro\"))    \n",
    "\n",
    "x = classification_report(y_test,predicted)\n",
    "print(x)"
   ]
  },
  {
   "cell_type": "code",
   "execution_count": null,
   "metadata": {},
   "outputs": [],
   "source": []
  }
 ],
 "metadata": {
  "kernelspec": {
   "display_name": "Python [conda env:raghav_btp]",
   "language": "python",
   "name": "conda-env-raghav_btp-py"
  },
  "language_info": {
   "codemirror_mode": {
    "name": "ipython",
    "version": 3
   },
   "file_extension": ".py",
   "mimetype": "text/x-python",
   "name": "python",
   "nbconvert_exporter": "python",
   "pygments_lexer": "ipython3",
   "version": "3.6.6"
  }
 },
 "nbformat": 4,
 "nbformat_minor": 2
}
