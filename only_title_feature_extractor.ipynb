{
 "cells": [
  {
   "cell_type": "code",
   "execution_count": 1,
   "metadata": {},
   "outputs": [],
   "source": [
    "from os import listdir\n",
    "from os.path import isfile, join\n",
    "import json\n",
    "import re\n",
    "import numpy as np\n",
    "import nltk\n",
    "from nltk.tokenize import word_tokenize\n",
    "from nltk.corpus import stopwords\n",
    "import string \n",
    "import pickle\n",
    "\n",
    "import os"
   ]
  },
  {
   "cell_type": "code",
   "execution_count": 2,
   "metadata": {},
   "outputs": [],
   "source": [
    "DATA= \"CV\""
   ]
  },
  {
   "cell_type": "code",
   "execution_count": 3,
   "metadata": {},
   "outputs": [],
   "source": [
    "bib_text_path_1 = \"/home/tirthankar/Ashish/ACL/Exp1/AIML_\"+DATA+\"/train/cv_bib\"\n",
    "bib_text_path_2 = \"/home/tirthankar/Ashish/ACL/Exp1/AIML_\"+DATA+\"/train/aiml_bib\""
   ]
  },
  {
   "cell_type": "code",
   "execution_count": 4,
   "metadata": {},
   "outputs": [],
   "source": [
    "def preprocess(sentence):\n",
    "    words = []  \n",
    "    w = word_tokenize(sentence)\n",
    "    w = [word.lower() for word in w]\n",
    "    w = [word for word in w if word.isalpha()]\n",
    "    stop_words = stopwords.words('english')\n",
    "    w = [word for word in w if not word in stop_words]\n",
    "    words.extend(w)\n",
    "    return words\n",
    "\n",
    "    \n",
    "def bagofwords(sentence, words):\n",
    "    bag = np.zeros(len(words))\n",
    "    for sw in sentence:\n",
    "        for i,word in enumerate(words):\n",
    "            if word == sw: \n",
    "                bag[i] = 1                \n",
    "    return np.array(bag)"
   ]
  },
  {
   "cell_type": "code",
   "execution_count": 7,
   "metadata": {},
   "outputs": [],
   "source": [
    "def get_unigrams(x,path,paper_title,prefix):\n",
    "\n",
    "    for file in x:\n",
    "        key = prefix+file\n",
    "        \n",
    "        with open(join(path,file)) as input_file:\n",
    "            data = json.load(input_file)\n",
    "            if data['metadata']['title'] is not None:\n",
    "                paper_title[key] = data['metadata']['title']\n",
    "            else:\n",
    "                paper_title[key] = \"None\"\n",
    "            \n",
    "            paper_title[key] = preprocess(paper_title[key])\n",
    "           \n"
   ]
  },
  {
   "cell_type": "code",
   "execution_count": 8,
   "metadata": {},
   "outputs": [],
   "source": [
    "#for  jnca get unigrams or each element is dictionary of prefix_filename and corresponding unigram words preprocessed\n",
    "x = listdir(bib_text_path_1)\n",
    "prefix = 'pos_'\n",
    "paper_title = {}\n",
    "get_unigrams(x,bib_text_path_1,paper_title,prefix)\n",
    "#for comnet get unigrams or each element is dictionary of prefix_filename and corresponding unigram words preprocessed\n",
    "x = listdir(bib_text_path_2)\n",
    "prefix = 'neg_'\n",
    "get_unigrams(x,bib_text_path_2,paper_title,prefix)\n"
   ]
  },
  {
   "cell_type": "code",
   "execution_count": 9,
   "metadata": {},
   "outputs": [],
   "source": [
    "def generate_vocabulary(vocabulary_name,document_unigram,prefix,x):\n",
    "    for file in x:\n",
    "        vocabulary_name = vocabulary_name + document_unigram[prefix+file]\n",
    "    return vocabulary_name\n"
   ]
  },
  {
   "cell_type": "code",
   "execution_count": 10,
   "metadata": {},
   "outputs": [],
   "source": [
    "title_vocabulary = []\n",
    "\n",
    "x = listdir(bib_text_path_1)\n",
    "title_vocabulary = generate_vocabulary(title_vocabulary,paper_title,'pos_',x)\n",
    "\n",
    "x = listdir(bib_text_path_2)\n",
    "title_vocabulary = generate_vocabulary(title_vocabulary,paper_title,'neg_',x)\n"
   ]
  },
  {
   "cell_type": "code",
   "execution_count": 11,
   "metadata": {},
   "outputs": [],
   "source": [
    "\n",
    "title_vocabulary1 = sorted(list(set(title_vocabulary)))\n"
   ]
  },
  {
   "cell_type": "code",
   "execution_count": 12,
   "metadata": {},
   "outputs": [
    {
     "name": "stdout",
     "output_type": "stream",
     "text": [
      "100\n",
      "200\n",
      "300\n",
      "400\n",
      "500\n",
      "600\n",
      "700\n",
      "800\n",
      "900\n",
      "1000\n",
      "1100\n",
      "1200\n",
      "1300\n",
      "1400\n",
      "1500\n",
      "1600\n",
      "1700\n",
      "1800\n",
      "1900\n",
      "2000\n",
      "2100\n",
      "2200\n",
      "2300\n",
      "2400\n",
      "2500\n",
      "2600\n",
      "2700\n",
      "2800\n",
      "2900\n",
      "3000\n",
      "3100\n",
      "3200\n",
      "3300\n",
      "3400\n",
      "3500\n",
      "3600\n",
      "3700\n",
      "3800\n",
      "3900\n",
      "4000\n",
      "4100\n",
      "4200\n",
      "4300\n",
      "4400\n",
      "4500\n",
      "4600\n",
      "4700\n",
      "4800\n",
      "4900\n",
      "5000\n",
      "5100\n",
      "5200\n",
      "5300\n",
      "5400\n",
      "5500\n",
      "5600\n",
      "5700\n",
      "5800\n",
      "5900\n",
      "6000\n",
      "6100\n",
      "6200\n",
      "6300\n",
      "6400\n",
      "6500\n",
      "6600\n",
      "6700\n",
      "6800\n",
      "6900\n",
      "7000\n",
      "7100\n",
      "7200\n",
      "7300\n",
      "7400\n"
     ]
    }
   ],
   "source": [
    "c = 0\n",
    "for i in set(title_vocabulary1):\n",
    "    c = c+1\n",
    "    if c % 100 == 0:\n",
    "        print(c)\n",
    "    if title_vocabulary.count(i) < 2:\n",
    "        title_vocabulary1.remove(i)\n",
    "        "
   ]
  },
  {
   "cell_type": "code",
   "execution_count": 13,
   "metadata": {},
   "outputs": [
    {
     "name": "stdout",
     "output_type": "stream",
     "text": [
      "4173\n"
     ]
    }
   ],
   "source": [
    "print(len(title_vocabulary1))"
   ]
  },
  {
   "cell_type": "code",
   "execution_count": 14,
   "metadata": {},
   "outputs": [
    {
     "name": "stdout",
     "output_type": "stream",
     "text": [
      "77928\n",
      "4173\n"
     ]
    }
   ],
   "source": [
    "\n",
    "print(len(title_vocabulary))\n",
    "print(len(title_vocabulary1))"
   ]
  },
  {
   "cell_type": "code",
   "execution_count": 15,
   "metadata": {},
   "outputs": [],
   "source": [
    "\n",
    "pickle.dump(title_vocabulary1, open(DATA+\"_title_vocabulary1.p\", \"wb\"))  # save it into a file named save.p\n",
    "\n"
   ]
  },
  {
   "cell_type": "code",
   "execution_count": 16,
   "metadata": {},
   "outputs": [],
   "source": [
    "# feature vector = title + bib_title+bib_venue\n",
    "\n",
    "def get_feature_vector(x,paper_title,prefix_value,feature_vector):\n",
    "    c = 0\n",
    "    for file in x:\n",
    "        prefix = prefix_value+file\n",
    "        c = c + 1\n",
    "        if c%100 ==0 : \n",
    "            print(c)\n",
    "        feature_vector[prefix] = bagofwords(paper_title[prefix],title_vocabulary1)\n"
   ]
  },
  {
   "cell_type": "code",
   "execution_count": 17,
   "metadata": {},
   "outputs": [
    {
     "name": "stdout",
     "output_type": "stream",
     "text": [
      "100\n",
      "200\n",
      "300\n",
      "400\n",
      "500\n",
      "600\n",
      "700\n",
      "800\n",
      "900\n",
      "1000\n",
      "1100\n",
      "1200\n",
      "1300\n",
      "1400\n",
      "1500\n",
      "1600\n",
      "1700\n",
      "1800\n",
      "1900\n",
      "2000\n",
      "2100\n",
      "2200\n",
      "2300\n",
      "2400\n",
      "2500\n",
      "2600\n",
      "2700\n",
      "2800\n",
      "2900\n",
      "3000\n",
      "3100\n",
      "3200\n",
      "3300\n",
      "3400\n",
      "3500\n",
      "3600\n",
      "3700\n",
      "3800\n",
      "3900\n",
      "4000\n",
      "4100\n",
      "4200\n",
      "4300\n",
      "4400\n",
      "4500\n",
      "4600\n",
      "4700\n",
      "4800\n",
      "4900\n",
      "5000\n",
      "5100\n",
      "100\n",
      "200\n",
      "300\n",
      "400\n",
      "500\n",
      "600\n",
      "700\n",
      "800\n",
      "900\n",
      "1000\n",
      "1100\n",
      "1200\n",
      "1300\n",
      "1400\n",
      "1500\n",
      "1600\n",
      "1700\n",
      "1800\n",
      "1900\n",
      "2000\n",
      "2100\n",
      "2200\n",
      "2300\n",
      "2400\n",
      "2500\n",
      "2600\n",
      "2700\n",
      "2800\n",
      "2900\n",
      "3000\n",
      "3100\n",
      "3200\n",
      "3300\n",
      "3400\n",
      "3500\n",
      "3600\n",
      "3700\n",
      "3800\n",
      "3900\n",
      "4000\n",
      "4100\n",
      "4200\n",
      "4300\n",
      "4400\n",
      "4500\n",
      "4600\n",
      "4700\n",
      "4800\n",
      "4900\n",
      "5000\n",
      "5100\n",
      "5200\n",
      "5300\n",
      "5400\n",
      "5500\n",
      "5600\n",
      "5700\n",
      "5800\n",
      "5900\n",
      "6000\n",
      "6100\n",
      "6200\n",
      "6300\n",
      "6400\n",
      "6500\n",
      "6600\n",
      "6700\n",
      "6800\n",
      "6900\n",
      "7000\n",
      "7100\n",
      "7200\n",
      "7300\n",
      "7400\n",
      "7500\n",
      "7600\n",
      "7700\n",
      "7800\n",
      "7900\n",
      "8000\n",
      "8100\n",
      "8200\n",
      "8300\n"
     ]
    }
   ],
   "source": [
    "feature_vector = {}\n",
    "x = listdir(bib_text_path_1)\n",
    "get_feature_vector(x,paper_title,'pos_',feature_vector)\n",
    "x = listdir(bib_text_path_2)\n",
    "get_feature_vector(x,paper_title,'neg_',feature_vector)\n",
    "\n"
   ]
  },
  {
   "cell_type": "code",
   "execution_count": null,
   "metadata": {},
   "outputs": [],
   "source": [
    "\n",
    "pickle.dump(feature_vector, open(DATA+\"_train_title_feature_vector.p\", \"wb\"))  # save it into a file named save.p\n"
   ]
  },
  {
   "cell_type": "code",
   "execution_count": null,
   "metadata": {},
   "outputs": [],
   "source": [
    "bib_text_path_1 = \"/home/tirthankar/Ashish/ACL/Exp1/AIML_\"+DATA+\"/test/cv_bib\"\n",
    "bib_text_path_2 = \"/home/tirthankar/Ashish/ACL/Exp1/AIML_\"+DATA+\"/test/aiml_bib\""
   ]
  },
  {
   "cell_type": "code",
   "execution_count": null,
   "metadata": {},
   "outputs": [],
   "source": [
    "#for  jnca get unigrams or each element is dictionary of prefix_filename and corresponding unigram words preprocessed\n",
    "x = listdir(bib_text_path_1)\n",
    "prefix = 'pos_'\n",
    "paper_title = {}\n",
    "get_unigrams(x,bib_text_path_1,paper_title,prefix)\n",
    "#for comnet get unigrams or each element is dictionary of prefix_filename and corresponding unigram words preprocessed\n",
    "x = listdir(bib_text_path_2)\n",
    "prefix = 'neg_'\n",
    "get_unigrams(x,bib_text_path_2,paper_title,prefix)\n"
   ]
  },
  {
   "cell_type": "code",
   "execution_count": null,
   "metadata": {},
   "outputs": [],
   "source": [
    "feature_vector = {}\n",
    "x = listdir(bib_text_path_1)\n",
    "get_feature_vector(x,paper_title,'pos_',feature_vector)\n",
    "x = listdir(bib_text_path_2)\n",
    "get_feature_vector(x,paper_title,'neg_',feature_vector)\n",
    "\n",
    "pickle.dump(feature_vector, open(DATA+\"_test_title_feature_vector.p\", \"wb\"))  # save it into a file named save.p\n"
   ]
  },
  {
   "cell_type": "code",
   "execution_count": null,
   "metadata": {},
   "outputs": [],
   "source": []
  }
 ],
 "metadata": {
  "kernelspec": {
   "display_name": "jcdl",
   "language": "python",
   "name": "jcdl"
  },
  "language_info": {
   "codemirror_mode": {
    "name": "ipython",
    "version": 2
   },
   "file_extension": ".py",
   "mimetype": "text/x-python",
   "name": "python",
   "nbconvert_exporter": "python",
   "pygments_lexer": "ipython2",
   "version": "2.7.15"
  }
 },
 "nbformat": 4,
 "nbformat_minor": 2
}
