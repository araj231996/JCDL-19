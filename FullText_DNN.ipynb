{
 "cells": [
  {
   "cell_type": "code",
   "execution_count": 3,
   "metadata": {},
   "outputs": [
    {
     "name": "stderr",
     "output_type": "stream",
     "text": [
      "Using TensorFlow backend.\n"
     ]
    }
   ],
   "source": [
    "from random import random\n",
    "import numpy as np\n",
    "from numpy import array\n",
    "from numpy import cumsum\n",
    "from keras.models import Sequential\n",
    "from keras import layers\n",
    "from keras.layers import LSTM\n",
    "from keras.callbacks import ModelCheckpoint\n",
    "from keras.layers import Dense\n",
    "from keras.layers import TimeDistributed\n",
    "from keras.layers import Bidirectional\n",
    "import pickle\n",
    "from keras.models import Model\n",
    "import os\n",
    "from sklearn.metrics import accuracy_score, f1_score, precision_score, recall_score, classification_report, confusion_matrix\n",
    "os.environ[\"CUDA_VISIBLE_DEVICES\"]=\"1\"\n"
   ]
  },
  {
   "cell_type": "code",
   "execution_count": null,
   "metadata": {},
   "outputs": [],
   "source": [
    "DATA = \"ARTINT\""
   ]
  },
  {
   "cell_type": "code",
   "execution_count": 4,
   "metadata": {},
   "outputs": [
    {
     "name": "stdout",
     "output_type": "stream",
     "text": [
      "Sun Jan 13 13:45:28 2019       \n",
      "+-----------------------------------------------------------------------------+\n",
      "| NVIDIA-SMI 384.111                Driver Version: 384.111                   |\n",
      "|-------------------------------+----------------------+----------------------+\n",
      "| GPU  Name        Persistence-M| Bus-Id        Disp.A | Volatile Uncorr. ECC |\n",
      "| Fan  Temp  Perf  Pwr:Usage/Cap|         Memory-Usage | GPU-Util  Compute M. |\n",
      "|===============================+======================+======================|\n",
      "|   0  GeForce GTX 108...  Off  | 00000000:04:00.0  On |                  N/A |\n",
      "| 42%   64C    P2    83W / 250W |   9083MiB / 11172MiB |      0%      Default |\n",
      "+-------------------------------+----------------------+----------------------+\n",
      "|   1  GeForce GTX 108...  Off  | 00000000:05:00.0 Off |                  N/A |\n",
      "| 23%   36C    P8    16W / 250W |    506MiB / 11172MiB |      0%      Default |\n",
      "+-------------------------------+----------------------+----------------------+\n",
      "|   2  GeForce GTX 108...  Off  | 00000000:08:00.0 Off |                  N/A |\n",
      "|  0%   51C    P8    19W / 250W |  10660MiB / 11172MiB |      0%      Default |\n",
      "+-------------------------------+----------------------+----------------------+\n",
      "|   3  GeForce GTX 108...  Off  | 00000000:0A:00.0 Off |                  N/A |\n",
      "| 29%   51C    P2    83W / 250W |   6105MiB / 11172MiB |     77%      Default |\n",
      "+-------------------------------+----------------------+----------------------+\n",
      "|   4  GeForce GTX 108...  Off  | 00000000:84:00.0 Off |                  N/A |\n",
      "| 24%   59C    P2    62W / 250W |   8506MiB / 11172MiB |     20%      Default |\n",
      "+-------------------------------+----------------------+----------------------+\n",
      "|   5  GeForce GTX 108...  Off  | 00000000:85:00.0 Off |                  N/A |\n",
      "| 23%   38C    P8    17W / 250W |    706MiB / 11172MiB |      0%      Default |\n",
      "+-------------------------------+----------------------+----------------------+\n",
      "|   6  GeForce GTX 108...  Off  | 00000000:88:00.0 Off |                  N/A |\n",
      "| 26%   47C    P2    57W / 250W |   2302MiB / 11172MiB |     23%      Default |\n",
      "+-------------------------------+----------------------+----------------------+\n",
      "|   7  GeForce GTX 108...  Off  | 00000000:89:00.0 Off |                  N/A |\n",
      "|  0%   35C    P8    18W / 250W |      2MiB / 11172MiB |      0%      Default |\n",
      "+-------------------------------+----------------------+----------------------+\n",
      "                                                                               \n",
      "+-----------------------------------------------------------------------------+\n",
      "| Processes:                                                       GPU Memory |\n",
      "|  GPU       PID   Type   Process name                             Usage      |\n",
      "|=============================================================================|\n",
      "|    0      4670      G   /usr/lib/xorg/Xorg                            50MiB |\n",
      "|    0      9764      C   python                                      8809MiB |\n",
      "|    0     24425      C   ...1/tanik/anaconda3/envs/tfgpu/bin/python   209MiB |\n",
      "|    1     46423      C   ...1/tanik/anaconda3/envs/tfgpu/bin/python   495MiB |\n",
      "|    2      6661      C   ...r/miniconda2/envs/raghav_btp/bin/python 10645MiB |\n",
      "|    3     22182      C   python                                      2291MiB |\n",
      "|    3     22346      C   python                                      1267MiB |\n",
      "|    3     22551      C   python                                      1267MiB |\n",
      "|    3     22758      C   python                                      1267MiB |\n",
      "|    4     24203      C   python                                      8495MiB |\n",
      "|    5     13418      C   /home1/tirthankar/miniconda2/bin/python      695MiB |\n",
      "|    6     35449      C   python                                      2291MiB |\n",
      "+-----------------------------------------------------------------------------+\n"
     ]
    }
   ],
   "source": [
    "!nvidia-smi"
   ]
  },
  {
   "cell_type": "code",
   "execution_count": 5,
   "metadata": {},
   "outputs": [],
   "source": [
    "train_filename = pickle.load(open(DATA+\"_train_fulltext_filename_final.p\", \"rb\"))\n",
    "train_use_vector = np.load(DATA+\"_train_fulltext_use_vector_final.npy\")\n",
    "test_filename = pickle.load(open(DATA+\"_test_fulltext_filename_final.p\", \"rb\"))\n",
    "test_use_vector = np.load(DATA+\"_test_fulltext_use_vector_final.npy\")\n",
    "\n"
   ]
  },
  {
   "cell_type": "code",
   "execution_count": 6,
   "metadata": {},
   "outputs": [
    {
     "name": "stdout",
     "output_type": "stream",
     "text": [
      "Sun Jan 13 13:46:10 2019       \n",
      "+-----------------------------------------------------------------------------+\n",
      "| NVIDIA-SMI 384.111                Driver Version: 384.111                   |\n",
      "|-------------------------------+----------------------+----------------------+\n",
      "| GPU  Name        Persistence-M| Bus-Id        Disp.A | Volatile Uncorr. ECC |\n",
      "| Fan  Temp  Perf  Pwr:Usage/Cap|         Memory-Usage | GPU-Util  Compute M. |\n",
      "|===============================+======================+======================|\n",
      "|   0  GeForce GTX 108...  Off  | 00000000:04:00.0  On |                  N/A |\n",
      "| 41%   64C    P2   145W / 250W |   9083MiB / 11172MiB |      0%      Default |\n",
      "+-------------------------------+----------------------+----------------------+\n",
      "|   1  GeForce GTX 108...  Off  | 00000000:05:00.0 Off |                  N/A |\n",
      "| 23%   36C    P8    16W / 250W |    506MiB / 11172MiB |      0%      Default |\n",
      "+-------------------------------+----------------------+----------------------+\n",
      "|   2  GeForce GTX 108...  Off  | 00000000:08:00.0 Off |                  N/A |\n",
      "|  0%   47C    P8    18W / 250W |  10660MiB / 11172MiB |      0%      Default |\n",
      "+-------------------------------+----------------------+----------------------+\n",
      "|   3  GeForce GTX 108...  Off  | 00000000:0A:00.0 Off |                  N/A |\n",
      "| 29%   51C    P2    84W / 250W |   6105MiB / 11172MiB |     80%      Default |\n",
      "+-------------------------------+----------------------+----------------------+\n",
      "|   4  GeForce GTX 108...  Off  | 00000000:84:00.0 Off |                  N/A |\n",
      "| 21%   58C    P2    62W / 250W |   8506MiB / 11172MiB |     17%      Default |\n",
      "+-------------------------------+----------------------+----------------------+\n",
      "|   5  GeForce GTX 108...  Off  | 00000000:85:00.0 Off |                  N/A |\n",
      "| 23%   38C    P8    17W / 250W |    706MiB / 11172MiB |      0%      Default |\n",
      "+-------------------------------+----------------------+----------------------+\n",
      "|   6  GeForce GTX 108...  Off  | 00000000:88:00.0 Off |                  N/A |\n",
      "| 26%   47C    P2    58W / 250W |   2302MiB / 11172MiB |     23%      Default |\n",
      "+-------------------------------+----------------------+----------------------+\n",
      "|   7  GeForce GTX 108...  Off  | 00000000:89:00.0 Off |                  N/A |\n",
      "|  0%   35C    P8    18W / 250W |      2MiB / 11172MiB |      0%      Default |\n",
      "+-------------------------------+----------------------+----------------------+\n",
      "                                                                               \n",
      "+-----------------------------------------------------------------------------+\n",
      "| Processes:                                                       GPU Memory |\n",
      "|  GPU       PID   Type   Process name                             Usage      |\n",
      "|=============================================================================|\n",
      "|    0      4670      G   /usr/lib/xorg/Xorg                            50MiB |\n",
      "|    0      9764      C   python                                      8809MiB |\n",
      "|    0     24425      C   ...1/tanik/anaconda3/envs/tfgpu/bin/python   209MiB |\n",
      "|    1     46423      C   ...1/tanik/anaconda3/envs/tfgpu/bin/python   495MiB |\n",
      "|    2      6661      C   ...r/miniconda2/envs/raghav_btp/bin/python 10645MiB |\n",
      "|    3     22182      C   python                                      2291MiB |\n",
      "|    3     22346      C   python                                      1267MiB |\n",
      "|    3     22551      C   python                                      1267MiB |\n",
      "|    3     22758      C   python                                      1267MiB |\n",
      "|    4     24203      C   python                                      8495MiB |\n",
      "|    5     13418      C   /home1/tirthankar/miniconda2/bin/python      695MiB |\n",
      "|    6     35449      C   python                                      2291MiB |\n",
      "+-----------------------------------------------------------------------------+\n"
     ]
    }
   ],
   "source": [
    "!nvidia-smi"
   ]
  },
  {
   "cell_type": "code",
   "execution_count": 7,
   "metadata": {},
   "outputs": [
    {
     "name": "stdout",
     "output_type": "stream",
     "text": [
      "500\n",
      "1000\n",
      "1500\n",
      "2000\n",
      "2500\n",
      "3000\n"
     ]
    }
   ],
   "source": [
    "y = []\n",
    "c = 0\n",
    "for i in train_filename:\n",
    "    c = c + 1\n",
    "    if c%500 == 0:\n",
    "        print(c)\n",
    "    if \"pos_\" in i:\n",
    "        y.append(1.0)\n",
    "    else :\n",
    "        y.append(0.0)"
   ]
  },
  {
   "cell_type": "code",
   "execution_count": 8,
   "metadata": {},
   "outputs": [
    {
     "name": "stdout",
     "output_type": "stream",
     "text": [
      "500\n"
     ]
    }
   ],
   "source": [
    "y_test = []\n",
    "c = 0\n",
    "for i in test_filename:\n",
    "    c = c + 1\n",
    "    if c%500 == 0:\n",
    "        print(c)\n",
    "    if \"pos_\" in i:\n",
    "        y_test.append(1.0)\n",
    "    else :\n",
    "        y_test.append(0.0)"
   ]
  },
  {
   "cell_type": "code",
   "execution_count": 9,
   "metadata": {},
   "outputs": [
    {
     "name": "stdout",
     "output_type": "stream",
     "text": [
      "(3056, 500, 512)\n",
      "(768, 500, 512)\n"
     ]
    }
   ],
   "source": [
    "print(train_use_vector.shape)\n",
    "print(test_use_vector.shape)"
   ]
  },
  {
   "cell_type": "code",
   "execution_count": 10,
   "metadata": {},
   "outputs": [
    {
     "name": "stdout",
     "output_type": "stream",
     "text": [
      "_________________________________________________________________\n",
      "Layer (type)                 Output Shape              Param #   \n",
      "=================================================================\n",
      "bidirectional_1 (Bidirection (None, 500, 200)          490400    \n",
      "_________________________________________________________________\n",
      "bidirectional_2 (Bidirection (None, 500, 100)          100400    \n",
      "_________________________________________________________________\n",
      "bidirectional_3 (Bidirection (None, 100)               60400     \n",
      "_________________________________________________________________\n",
      "dense_1 (Dense)              (None, 50)                5050      \n",
      "_________________________________________________________________\n",
      "dropout_1 (Dropout)          (None, 50)                0         \n",
      "_________________________________________________________________\n",
      "dense_2 (Dense)              (None, 100)               5100      \n",
      "_________________________________________________________________\n",
      "dropout_2 (Dropout)          (None, 100)               0         \n",
      "_________________________________________________________________\n",
      "dense_3 (Dense)              (None, 4000)              404000    \n",
      "_________________________________________________________________\n",
      "dropout_3 (Dropout)          (None, 4000)              0         \n",
      "_________________________________________________________________\n",
      "dense_4 (Dense)              (None, 1)                 4001      \n",
      "=================================================================\n",
      "Total params: 1,069,351\n",
      "Trainable params: 1,069,351\n",
      "Non-trainable params: 0\n",
      "_________________________________________________________________\n"
     ]
    }
   ],
   "source": [
    "\n",
    "n_timesteps = train_use_vector[0].shape[0]\n",
    "# define LSTM\n",
    "model = Sequential()\n",
    "model.add(Bidirectional(LSTM(100, return_sequences=True), input_shape=(n_timesteps, 512)))\n",
    "model.add(Bidirectional(LSTM(50, return_sequences=True)))\n",
    "model.add(Bidirectional(LSTM(50)))\n",
    "model.add(layers.Dense(50, activation = \"relu\"))\n",
    "model.add(layers.Dropout(0.3, noise_shape=None, seed=None))\n",
    "model.add(layers.Dense(100, activation = \"relu\"))\n",
    "model.add(layers.Dropout(0.3, noise_shape=None, seed=None))\n",
    "model.add(layers.Dense(4000, activation = \"relu\"))\n",
    "model.add(layers.Dropout(0.3, noise_shape=None, seed=None))\n",
    "\n",
    "# Output- Layer\n",
    "model.add(layers.Dense(1, activation = \"sigmoid\"))\n",
    "\n",
    "model.summary()\n",
    "checkpoint = ModelCheckpoint(DATA+'model-full-text-best.h5', verbose=1, monitor='val_loss',save_best_only=True, mode='auto')  \n",
    "\n",
    "model.compile(loss='binary_crossentropy', optimizer='adam', metrics=['acc'])\n",
    "\n"
   ]
  },
  {
   "cell_type": "code",
   "execution_count": null,
   "metadata": {
    "scrolled": true
   },
   "outputs": [
    {
     "name": "stdout",
     "output_type": "stream",
     "text": [
      "Train on 3056 samples, validate on 768 samples\n",
      "Epoch 1/10\n",
      "3056/3056 [==============================] - 289s 95ms/step - loss: 0.4721 - acc: 0.7866 - val_loss: 0.3754 - val_acc: 0.8372\n",
      "\n",
      "Epoch 00001: val_loss improved from inf to 0.37540, saving model to model-full-text-best.h5\n",
      "Epoch 2/10\n",
      "3056/3056 [==============================] - 284s 93ms/step - loss: 0.3292 - acc: 0.8603 - val_loss: 0.2842 - val_acc: 0.8724\n",
      "\n",
      "Epoch 00002: val_loss improved from 0.37540 to 0.28416, saving model to model-full-text-best.h5\n",
      "Epoch 3/10\n",
      "3056/3056 [==============================] - 294s 96ms/step - loss: 0.2714 - acc: 0.8865 - val_loss: 0.2403 - val_acc: 0.8919\n",
      "\n",
      "Epoch 00003: val_loss improved from 0.28416 to 0.24026, saving model to model-full-text-best.h5\n",
      "Epoch 4/10\n",
      "1024/3056 [=========>....................] - ETA: 2:55 - loss: 0.2540 - acc: 0.8955"
     ]
    }
   ],
   "source": [
    "results = model.fit( train_use_vector,y, epochs= 10, batch_size = 64,validation_data=(test_use_vector,y_test),callbacks=[checkpoint])\n"
   ]
  },
  {
   "cell_type": "code",
   "execution_count": null,
   "metadata": {},
   "outputs": [],
   "source": [
    "model.layers"
   ]
  },
  {
   "cell_type": "code",
   "execution_count": null,
   "metadata": {},
   "outputs": [],
   "source": [
    "#model.load_weights('model-best.h5')\n",
    "\n",
    "new_model = Model(inputs = model.inputs, outputs = model.layers[-3].output)\n",
    "\n",
    "new_model.load_weights(DATA+'model-full-text-best.h5', by_name = True)\n",
    "train_prediction = new_model.predict(train_use_vector)\n",
    "test_prediction = new_model.predict(test_use_vector)"
   ]
  },
  {
   "cell_type": "code",
   "execution_count": null,
   "metadata": {},
   "outputs": [],
   "source": [
    "np.save(DATA+'_train_full_text_modality_feature',train_prediction)\n",
    "\n",
    "np.save(DATA+'_test_full_text_modality_feature',test_prediction)\n"
   ]
  },
  {
   "cell_type": "code",
   "execution_count": null,
   "metadata": {},
   "outputs": [],
   "source": [
    "predicted =  model.predict(test_use_vector)\n",
    "for i in range(len(predicted)):\n",
    "    if predicted[i] >= 0.5:\n",
    "        predicted[i] = 1.0\n",
    "    else :\n",
    "        predicted[i] = 0.0"
   ]
  },
  {
   "cell_type": "code",
   "execution_count": null,
   "metadata": {},
   "outputs": [],
   "source": [
    "print(\"fscore\",f1_score(y_test, predicted, average=\"macro\"))\n",
    "print(\"precision\",precision_score(y_test, predicted, average=\"macro\"))\n",
    "print(\"recall\",recall_score(y_test, predicted, average=\"macro\"))    \n",
    "\n",
    "x = classification_report(y_test,predicted)\n",
    "print(x)"
   ]
  },
  {
   "cell_type": "code",
   "execution_count": null,
   "metadata": {},
   "outputs": [],
   "source": [
    "model.save(DATA+'onlyfulltextmodel')"
   ]
  },
  {
   "cell_type": "code",
   "execution_count": null,
   "metadata": {},
   "outputs": [],
   "source": []
  }
 ],
 "metadata": {
  "kernelspec": {
   "display_name": "Python [default]",
   "language": "python",
   "name": "python3"
  },
  "language_info": {
   "codemirror_mode": {
    "name": "ipython",
    "version": 3
   },
   "file_extension": ".py",
   "mimetype": "text/x-python",
   "name": "python",
   "nbconvert_exporter": "python",
   "pygments_lexer": "ipython3",
   "version": "3.6.6"
  }
 },
 "nbformat": 4,
 "nbformat_minor": 2
}
