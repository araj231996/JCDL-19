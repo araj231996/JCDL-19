{
 "cells": [
  {
   "cell_type": "code",
   "execution_count": 1,
   "metadata": {},
   "outputs": [
    {
     "name": "stderr",
     "output_type": "stream",
     "text": [
      "Using TensorFlow backend.\n"
     ]
    }
   ],
   "source": [
    "import numpy as np\n",
    "import keras\n",
    "from keras.models import Model, load_model\n",
    "from keras.layers import Dense, Input, Concatenate, Dropout, Add, Lambda\n",
    "from keras import regularizers\n",
    "from keras import backend as K\n",
    "from keras.callbacks import ModelCheckpoint\n",
    "import os\n",
    "from keras.engine.topology import Layer\n",
    "import pickle\n",
    "from sklearn.metrics import accuracy_score, f1_score, precision_score, recall_score, classification_report, confusion_matrix\n",
    "from sklearn.metrics import accuracy_score, f1_score, precision_score, recall_score, classification_report, confusion_matrix\n",
    "os.environ[\"CUDA_VISIBLE_DEVICES\"]=\"7\"\n",
    "\n"
   ]
  },
  {
   "cell_type": "code",
   "execution_count": null,
   "metadata": {},
   "outputs": [],
   "source": [
    "DATA = \"ARTINT\""
   ]
  },
  {
   "cell_type": "code",
   "execution_count": 3,
   "metadata": {},
   "outputs": [],
   "source": [
    "#load train data\n",
    "train_img_filename =  pickle.load(open(DATA+\"_train_img_filename_for_img_modal_vector.p\", \"rb\"))\n",
    "train_img_feature_vector = np.load(DATA+'_train_img_modal_vector.npy')\n",
    "train_caption_feature_vector = pickle.load(open(DATA+\"_train_image_caption_feature_vector.p\", \"rb\"))\n",
    "train_text_filename = pickle.load(open(DATA+\"_train_abstract_filename.p\", \"rb\"))\n",
    "train_text_feature_vector =  np.load(DATA+'_train_abstract_modality_feature.npy')\n"
   ]
  },
  {
   "cell_type": "code",
   "execution_count": 4,
   "metadata": {},
   "outputs": [],
   "source": [
    "#load test data\n",
    "test_img_filename = pickle.load(open(DATA+\"_test_img_filename_for_img_modal_vector.p\", \"rb\"))\n",
    "test_img_feature_vector = np.load(DATA+'_test_img_modal_vector.npy')\n",
    "test_caption_feature_vector = pickle.load(open(DATA+\"_test_image_caption_feature_vector.p\", \"rb\"))\n",
    "test_text_filename = pickle.load(open(DATA+\"_test_abstract_filename.p\", \"rb\"))\n",
    "test_text_feature_vector = np.load(DATA+'_test_abstract_modality_feature.npy')\n"
   ]
  },
  {
   "cell_type": "code",
   "execution_count": 5,
   "metadata": {},
   "outputs": [],
   "source": [
    "fv_img = []\n",
    "fv_img_caption = []\n",
    "fv_full_text = []\n",
    "train_labels = []\n",
    "for i in range(len(train_img_filename)):\n",
    "    for j in range(len(train_text_filename)):\n",
    "        if train_img_filename[i] in train_text_filename[j]:\n",
    "            if train_text_filename[j] not in train_caption_feature_vector.keys():\n",
    "                continue\n",
    "            fv_img.append(train_img_feature_vector[i])\n",
    "            fv_img_caption.append(train_caption_feature_vector[train_text_filename[j]])\n",
    "            fv_full_text.append(train_text_feature_vector[j])\n",
    "            label = 1.0\n",
    "            if 'neg_' in train_img_filename[i]:\n",
    "                label = 0.0\n",
    "            train_labels.append(label)\n",
    "\n",
    "fv_img = np.array(fv_img)\n",
    "fv_img_caption = np.array(fv_img_caption)\n",
    "fv_full_text = np.array(fv_full_text)\n"
   ]
  },
  {
   "cell_type": "code",
   "execution_count": 6,
   "metadata": {},
   "outputs": [],
   "source": [
    "fv_img_test = []\n",
    "fv_img_test_caption = []\n",
    "fv_full_text_test = []\n",
    "test_labels = []\n",
    "for i in range(len(test_img_filename)):\n",
    "    for j in range(len(test_text_filename)):\n",
    "        if test_img_filename[i] in test_text_filename[j]:\n",
    "            if test_text_filename[j] not in test_caption_feature_vector.keys():\n",
    "                continue\n",
    "            fv_img_test.append(test_img_feature_vector[i])\n",
    "            fv_img_test_caption.append(test_caption_feature_vector[test_text_filename[j]])\n",
    "            fv_full_text_test.append(test_text_feature_vector[j])\n",
    "            label = 1.0\n",
    "            if 'neg_' in test_img_filename[i]:\n",
    "                label = 0.0\n",
    "            test_labels.append(label)\n",
    "            \n",
    "fv_img_test = np.array(fv_img_test)\n",
    "fv_img_test_caption = np.array(fv_img_test_caption)\n",
    "fv_full_text_test = np.array(fv_full_text_test)\n"
   ]
  },
  {
   "cell_type": "code",
   "execution_count": 7,
   "metadata": {},
   "outputs": [
    {
     "name": "stdout",
     "output_type": "stream",
     "text": [
      "(3056, 4096)\n",
      "(3056, 5716)\n",
      "(3056, 100)\n",
      "(768, 4096)\n",
      "(768, 5716)\n",
      "(768, 100)\n"
     ]
    }
   ],
   "source": [
    "print(fv_img.shape)\n",
    "print(fv_img_caption.shape)\n",
    "print(fv_full_text.shape)\n",
    "print(fv_img_test.shape)\n",
    "print(fv_img_test_caption.shape)\n",
    "print(fv_full_text_test.shape)"
   ]
  },
  {
   "cell_type": "code",
   "execution_count": 8,
   "metadata": {},
   "outputs": [],
   "source": [
    "#model\n",
    "\n",
    "IMG_FEATURES = Input(shape = (4096,))\n",
    "IMG_CAPTIONS = Input(shape = (5716,))\n",
    "FULL_TEXT = Input(shape = (100,))\n",
    "\n",
    "B = Concatenate(axis = 1)([IMG_FEATURES, IMG_CAPTIONS, FULL_TEXT])\n",
    "\n",
    "P = Dense(512, activation = 'relu')(B)\n",
    "\n",
    "alpha = Dense(3, activation = 'softmax')(P)\n",
    "\n",
    "F = Lambda(lambda x : alpha[:,0:1]*IMG_FEATURES)(alpha)\n",
    "G = Lambda(lambda x : alpha[:,1:2]*IMG_CAPTIONS)(alpha)\n",
    "H = Lambda(lambda x : alpha[:,2:3]*FULL_TEXT)(alpha)\n",
    "Y = Concatenate(axis = -1)([F,G,H])\n",
    "\n",
    "Y = Dense(2000, activation = 'relu')(Y)\n",
    "Y = Dropout(rate = 0.2)(Y)\n",
    "\n",
    "Y = Dense(512, activation = 'relu')(Y)\t\t#, kernel_regularizer = regularizers.l2(0.01)\n",
    "Y = Dropout(rate = 0.25)(Y)\n",
    "\n",
    "Y = Dense(512, activation = 'relu')(Y)\n",
    "Y = Dropout(rate = 0.2)(Y)\n",
    "\n",
    "Y = Dense(1, activation = 'sigmoid')(Y)\n",
    "\n",
    "model = Model(inputs = [IMG_FEATURES, IMG_CAPTIONS, FULL_TEXT], outputs = Y)"
   ]
  },
  {
   "cell_type": "code",
   "execution_count": 9,
   "metadata": {},
   "outputs": [
    {
     "name": "stdout",
     "output_type": "stream",
     "text": [
      "Train on 3056 samples, validate on 768 samples\n",
      "Epoch 1/20\n",
      "3056/3056 [==============================] - 4s 1ms/step - loss: 0.1934 - acc: 0.9310 - val_loss: 0.1959 - val_acc: 0.9232\n",
      "\n",
      "Epoch 00001: val_loss improved from inf to 0.19585, saving model to model-img-caption-abstract-best.h5\n",
      "Epoch 2/20\n",
      "3056/3056 [==============================] - 1s 320us/step - loss: 0.1442 - acc: 0.9454 - val_loss: 0.1889 - val_acc: 0.9180\n",
      "\n",
      "Epoch 00002: val_loss improved from 0.19585 to 0.18892, saving model to model-img-caption-abstract-best.h5\n",
      "Epoch 3/20\n",
      "3056/3056 [==============================] - 1s 314us/step - loss: 0.1357 - acc: 0.9486 - val_loss: 0.1957 - val_acc: 0.9167\n",
      "\n",
      "Epoch 00003: val_loss did not improve from 0.18892\n",
      "Epoch 4/20\n",
      "3056/3056 [==============================] - 1s 317us/step - loss: 0.1306 - acc: 0.9568 - val_loss: 0.2016 - val_acc: 0.9167\n",
      "\n",
      "Epoch 00004: val_loss did not improve from 0.18892\n",
      "Epoch 5/20\n",
      "3056/3056 [==============================] - 1s 318us/step - loss: 0.1238 - acc: 0.9562 - val_loss: 0.2242 - val_acc: 0.9206\n",
      "\n",
      "Epoch 00005: val_loss did not improve from 0.18892\n",
      "Epoch 6/20\n",
      "3056/3056 [==============================] - 1s 322us/step - loss: 0.1154 - acc: 0.9624 - val_loss: 0.2108 - val_acc: 0.9206\n",
      "\n",
      "Epoch 00006: val_loss did not improve from 0.18892\n",
      "Epoch 7/20\n",
      "3056/3056 [==============================] - 1s 316us/step - loss: 0.1172 - acc: 0.9630 - val_loss: 0.2720 - val_acc: 0.9167\n",
      "\n",
      "Epoch 00007: val_loss did not improve from 0.18892\n",
      "Epoch 8/20\n",
      "3056/3056 [==============================] - 1s 321us/step - loss: 0.1196 - acc: 0.9598 - val_loss: 0.2005 - val_acc: 0.9232\n",
      "\n",
      "Epoch 00008: val_loss did not improve from 0.18892\n",
      "Epoch 9/20\n",
      "3056/3056 [==============================] - 1s 319us/step - loss: 0.1353 - acc: 0.9526 - val_loss: 0.1966 - val_acc: 0.9193\n",
      "\n",
      "Epoch 00009: val_loss did not improve from 0.18892\n",
      "Epoch 10/20\n",
      "3056/3056 [==============================] - 1s 317us/step - loss: 0.1228 - acc: 0.9552 - val_loss: 0.3385 - val_acc: 0.9115\n",
      "\n",
      "Epoch 00010: val_loss did not improve from 0.18892\n",
      "Epoch 11/20\n",
      "3056/3056 [==============================] - 1s 316us/step - loss: 0.1219 - acc: 0.9607 - val_loss: 0.2750 - val_acc: 0.9089\n",
      "\n",
      "Epoch 00011: val_loss did not improve from 0.18892\n",
      "Epoch 12/20\n",
      "3056/3056 [==============================] - 1s 319us/step - loss: 0.1147 - acc: 0.9620 - val_loss: 0.4023 - val_acc: 0.8997\n",
      "\n",
      "Epoch 00012: val_loss did not improve from 0.18892\n",
      "Epoch 13/20\n",
      "3056/3056 [==============================] - 1s 319us/step - loss: 0.1441 - acc: 0.9598 - val_loss: 0.2068 - val_acc: 0.9193\n",
      "\n",
      "Epoch 00013: val_loss did not improve from 0.18892\n",
      "Epoch 14/20\n",
      "3056/3056 [==============================] - 1s 317us/step - loss: 0.1212 - acc: 0.9578 - val_loss: 0.3791 - val_acc: 0.8971\n",
      "\n",
      "Epoch 00014: val_loss did not improve from 0.18892\n",
      "Epoch 15/20\n",
      "3056/3056 [==============================] - 1s 319us/step - loss: 0.1145 - acc: 0.9591 - val_loss: 0.2277 - val_acc: 0.9180\n",
      "\n",
      "Epoch 00015: val_loss did not improve from 0.18892\n",
      "Epoch 16/20\n",
      "3056/3056 [==============================] - 1s 308us/step - loss: 0.1084 - acc: 0.9620 - val_loss: 0.1870 - val_acc: 0.9245\n",
      "\n",
      "Epoch 00016: val_loss improved from 0.18892 to 0.18699, saving model to model-img-caption-abstract-best.h5\n",
      "Epoch 17/20\n",
      "3056/3056 [==============================] - 1s 321us/step - loss: 0.1154 - acc: 0.9571 - val_loss: 0.2497 - val_acc: 0.9128\n",
      "\n",
      "Epoch 00017: val_loss did not improve from 0.18699\n",
      "Epoch 18/20\n",
      "3056/3056 [==============================] - 1s 347us/step - loss: 0.1032 - acc: 0.9617 - val_loss: 0.3480 - val_acc: 0.9076\n",
      "\n",
      "Epoch 00018: val_loss did not improve from 0.18699\n",
      "Epoch 19/20\n",
      "3056/3056 [==============================] - 1s 317us/step - loss: 0.1149 - acc: 0.9624 - val_loss: 0.3623 - val_acc: 0.9089\n",
      "\n",
      "Epoch 00019: val_loss did not improve from 0.18699\n",
      "Epoch 20/20\n",
      "3056/3056 [==============================] - 1s 316us/step - loss: 0.1249 - acc: 0.9634 - val_loss: 0.3401 - val_acc: 0.9062\n",
      "\n",
      "Epoch 00020: val_loss did not improve from 0.18699\n"
     ]
    }
   ],
   "source": [
    "checkpoint = ModelCheckpoint(DATA+'model-img-caption-abstract-best.h5', verbose=1, monitor='val_loss',save_best_only=True, mode='auto')  \n",
    "\n",
    "model.compile(loss='binary_crossentropy', optimizer='adam', metrics=['acc'])\n",
    "\n",
    "results = model.fit( [fv_img,fv_img_caption,fv_full_text],train_labels, epochs= 20, batch_size = 64,validation_data=([fv_img_test,fv_img_test_caption,fv_full_text_test],test_labels),callbacks=[checkpoint])\n"
   ]
  },
  {
   "cell_type": "code",
   "execution_count": 10,
   "metadata": {},
   "outputs": [],
   "source": [
    "predicted = model.predict([fv_img_test,fv_img_test_caption,fv_full_text_test])"
   ]
  },
  {
   "cell_type": "code",
   "execution_count": 11,
   "metadata": {},
   "outputs": [],
   "source": [
    "for i in range(len(predicted)):\n",
    "    if predicted[i] >= 0.5:\n",
    "        predicted[i] = 1.0\n",
    "    else :\n",
    "        predicted[i] = 0.0"
   ]
  },
  {
   "cell_type": "code",
   "execution_count": 12,
   "metadata": {},
   "outputs": [
    {
     "name": "stdout",
     "output_type": "stream",
     "text": [
      "fscore 0.9059412677244645\n",
      "precision 0.9062091503267974\n",
      "recall 0.9057229898814058\n",
      "             precision    recall  f1-score   support\n",
      "\n",
      "        0.0       0.91      0.90      0.90       364\n",
      "        1.0       0.91      0.92      0.91       404\n",
      "\n",
      "avg / total       0.91      0.91      0.91       768\n",
      "\n"
     ]
    }
   ],
   "source": [
    "print(\"fscore\",f1_score(test_labels, predicted, average=\"macro\"))\n",
    "print(\"precision\",precision_score(test_labels, predicted, average=\"macro\"))\n",
    "print(\"recall\",recall_score(test_labels, predicted, average=\"macro\"))    \n",
    "\n",
    "x = classification_report(test_labels,predicted)\n",
    "print(x)"
   ]
  },
  {
   "cell_type": "code",
   "execution_count": 13,
   "metadata": {},
   "outputs": [],
   "source": [
    "model.save(DATA+'image-caption-abstract-model')"
   ]
  },
  {
   "cell_type": "code",
   "execution_count": null,
   "metadata": {},
   "outputs": [],
   "source": []
  },
  {
   "cell_type": "code",
   "execution_count": null,
   "metadata": {},
   "outputs": [],
   "source": []
  }
 ],
 "metadata": {
  "kernelspec": {
   "display_name": "Python [conda env:raghav_btp]",
   "language": "python",
   "name": "conda-env-raghav_btp-py"
  },
  "language_info": {
   "codemirror_mode": {
    "name": "ipython",
    "version": 3
   },
   "file_extension": ".py",
   "mimetype": "text/x-python",
   "name": "python",
   "nbconvert_exporter": "python",
   "pygments_lexer": "ipython3",
   "version": "3.6.6"
  }
 },
 "nbformat": 4,
 "nbformat_minor": 2
}
