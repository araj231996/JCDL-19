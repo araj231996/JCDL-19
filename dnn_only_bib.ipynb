{
 "cells": [
  {
   "cell_type": "code",
   "execution_count": 1,
   "metadata": {},
   "outputs": [
    {
     "name": "stderr",
     "output_type": "stream",
     "text": [
      "Using TensorFlow backend.\n"
     ]
    }
   ],
   "source": [
    "import numpy as np\n",
    "from keras.utils import to_categorical\n",
    "from keras import models\n",
    "from keras import layers\n",
    "import pickle\n",
    "from sklearn.metrics import accuracy_score, f1_score, precision_score, recall_score, classification_report, confusion_matrix\n"
   ]
  },
  {
   "cell_type": "code",
   "execution_count": null,
   "metadata": {},
   "outputs": [],
   "source": [
    "DATA = \"ARTINT\""
   ]
  },
  {
   "cell_type": "code",
   "execution_count": 2,
   "metadata": {},
   "outputs": [],
   "source": [
    "d_feature_vector = pickle.load(open(DATA+\"_train_only_bib_feature_vector.p\", \"rb\"))\n",
    "d_feature_vector_test = pickle.load(open(DATA+\"_train_only_bib_feature_vector.p\", \"rb\"))\n"
   ]
  },
  {
   "cell_type": "code",
   "execution_count": 3,
   "metadata": {},
   "outputs": [
    {
     "name": "stdout",
     "output_type": "stream",
     "text": [
      "(3056, 8913)\n"
     ]
    }
   ],
   "source": [
    "\n",
    "x_train = []\n",
    "y_train = []\n",
    "for i in d_feature_vector.keys():\n",
    "    x_train.append(d_feature_vector[i])\n",
    "    label = 1.0\n",
    "    if i.startswith(\"neg_\"):\n",
    "        label = 0.0\n",
    "    y_train.append(label)\n",
    "x_train = np.array(x_train)\n",
    "y_train = np.array(y_train)\n",
    "\n",
    "print(x_train.shape)\n"
   ]
  },
  {
   "cell_type": "code",
   "execution_count": 4,
   "metadata": {},
   "outputs": [
    {
     "name": "stdout",
     "output_type": "stream",
     "text": [
      "(3056, 8913)\n"
     ]
    }
   ],
   "source": [
    "\n",
    "x_test = []\n",
    "y_test = []\n",
    "for i in d_feature_vector_test.keys():\n",
    "    x_test.append(d_feature_vector_test[i])\n",
    "    label = 1.0\n",
    "    if i.startswith(\"neg_\"):\n",
    "        label = 0.0\n",
    "    y_test.append(label)\n",
    "x_test = np.array(x_test)\n",
    "y_test = np.array(y_test)\n",
    "\n",
    "print(x_test.shape)\n"
   ]
  },
  {
   "cell_type": "code",
   "execution_count": 5,
   "metadata": {},
   "outputs": [
    {
     "name": "stdout",
     "output_type": "stream",
     "text": [
      "1444\n"
     ]
    }
   ],
   "source": [
    "c = 0\n",
    "for i in y_test:\n",
    "    if i == 0.0:\n",
    "        c = c+ 1\n",
    "print(c)"
   ]
  },
  {
   "cell_type": "code",
   "execution_count": 6,
   "metadata": {},
   "outputs": [
    {
     "name": "stdout",
     "output_type": "stream",
     "text": [
      "_________________________________________________________________\n",
      "Layer (type)                 Output Shape              Param #   \n",
      "=================================================================\n",
      "dense_1 (Dense)              (None, 50)                445700    \n",
      "_________________________________________________________________\n",
      "dropout_1 (Dropout)          (None, 50)                0         \n",
      "_________________________________________________________________\n",
      "dense_2 (Dense)              (None, 50)                2550      \n",
      "_________________________________________________________________\n",
      "dropout_2 (Dropout)          (None, 50)                0         \n",
      "_________________________________________________________________\n",
      "dense_3 (Dense)              (None, 50)                2550      \n",
      "_________________________________________________________________\n",
      "dense_4 (Dense)              (None, 1)                 51        \n",
      "=================================================================\n",
      "Total params: 450,851\n",
      "Trainable params: 450,851\n",
      "Non-trainable params: 0\n",
      "_________________________________________________________________\n"
     ]
    }
   ],
   "source": [
    "# Input - Layer\n",
    "model = models.Sequential()\n",
    "model.add(layers.Dense(50, activation = \"relu\", input_dim=8913))\n",
    "# Hidden - Layers\n",
    "model.add(layers.Dropout(0.3, noise_shape=None, seed=None))\n",
    "model.add(layers.Dense(50, activation = \"relu\"))\n",
    "model.add(layers.Dropout(0.3, noise_shape=None, seed=None))\n",
    "model.add(layers.Dense(50, activation = \"relu\"))\n",
    "# Output- Layer\n",
    "model.add(layers.Dense(1, activation = \"sigmoid\"))\n",
    "\n",
    "model.summary()\n"
   ]
  },
  {
   "cell_type": "code",
   "execution_count": 7,
   "metadata": {},
   "outputs": [],
   "source": [
    "model.compile( optimizer = \"adam\", loss = \"binary_crossentropy\", metrics = [\"accuracy\"])"
   ]
  },
  {
   "cell_type": "code",
   "execution_count": 8,
   "metadata": {},
   "outputs": [
    {
     "name": "stdout",
     "output_type": "stream",
     "text": [
      "Train on 3056 samples, validate on 3056 samples\n",
      "Epoch 1/5\n",
      "3056/3056 [==============================] - 2s 688us/step - loss: 0.4382 - acc: 0.7932 - val_loss: 0.2369 - val_acc: 0.8995\n",
      "Epoch 2/5\n",
      "3056/3056 [==============================] - 2s 569us/step - loss: 0.2312 - acc: 0.8976 - val_loss: 0.1556 - val_acc: 0.9257\n",
      "Epoch 3/5\n",
      "3056/3056 [==============================] - 2s 612us/step - loss: 0.1630 - acc: 0.9257 - val_loss: 0.1216 - val_acc: 0.9385\n",
      "Epoch 4/5\n",
      "3056/3056 [==============================] - 2s 580us/step - loss: 0.1307 - acc: 0.9368 - val_loss: 0.1133 - val_acc: 0.9401\n",
      "Epoch 5/5\n",
      "3056/3056 [==============================] - 2s 581us/step - loss: 0.1197 - acc: 0.9365 - val_loss: 0.1097 - val_acc: 0.9411\n"
     ]
    }
   ],
   "source": [
    "results = model.fit( x_train,y_train, epochs= 5, batch_size = 32, validation_data = (x_test, y_test))\n"
   ]
  },
  {
   "cell_type": "code",
   "execution_count": 9,
   "metadata": {},
   "outputs": [],
   "source": [
    "predicted =  model.predict(x_test)"
   ]
  },
  {
   "cell_type": "code",
   "execution_count": 10,
   "metadata": {},
   "outputs": [],
   "source": [
    "for i in range(len(predicted)):\n",
    "    if predicted[i] >= 0.5:\n",
    "        predicted[i] = 1.0\n",
    "    else :\n",
    "        predicted[i] = 0.0"
   ]
  },
  {
   "cell_type": "code",
   "execution_count": 11,
   "metadata": {},
   "outputs": [
    {
     "name": "stdout",
     "output_type": "stream",
     "text": [
      "0.9410988457481051\n",
      "0.9444725333498427\n",
      "0.9441326478007739\n"
     ]
    }
   ],
   "source": [
    "print(f1_score(y_test, predicted, average=\"macro\"))\n",
    "print(precision_score(y_test, predicted, average=\"macro\"))\n",
    "print(recall_score(y_test, predicted, average=\"macro\"))    "
   ]
  },
  {
   "cell_type": "code",
   "execution_count": 12,
   "metadata": {},
   "outputs": [],
   "source": [
    "x = classification_report(y_test,predicted)"
   ]
  },
  {
   "cell_type": "code",
   "execution_count": 13,
   "metadata": {},
   "outputs": [
    {
     "name": "stdout",
     "output_type": "stream",
     "text": [
      "              precision    recall  f1-score   support\n",
      "\n",
      "         0.0       0.89      1.00      0.94      1444\n",
      "         1.0       1.00      0.89      0.94      1612\n",
      "\n",
      "   micro avg       0.94      0.94      0.94      3056\n",
      "   macro avg       0.94      0.94      0.94      3056\n",
      "weighted avg       0.95      0.94      0.94      3056\n",
      "\n"
     ]
    }
   ],
   "source": [
    "print(x)"
   ]
  },
  {
   "cell_type": "code",
   "execution_count": 14,
   "metadata": {},
   "outputs": [],
   "source": [
    "model.save(DATA+'only_bib_model')"
   ]
  },
  {
   "cell_type": "code",
   "execution_count": null,
   "metadata": {},
   "outputs": [],
   "source": []
  }
 ],
 "metadata": {
  "kernelspec": {
   "display_name": "Python [conda env:raghav_btp]",
   "language": "python",
   "name": "conda-env-raghav_btp-py"
  },
  "language_info": {
   "codemirror_mode": {
    "name": "ipython",
    "version": 3
   },
   "file_extension": ".py",
   "mimetype": "text/x-python",
   "name": "python",
   "nbconvert_exporter": "python",
   "pygments_lexer": "ipython3",
   "version": "3.6.6"
  }
 },
 "nbformat": 4,
 "nbformat_minor": 2
}
