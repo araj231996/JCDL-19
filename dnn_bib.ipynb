{
 "cells": [
  {
   "cell_type": "code",
   "execution_count": 1,
   "metadata": {},
   "outputs": [
    {
     "name": "stderr",
     "output_type": "stream",
     "text": [
      "Using TensorFlow backend.\n"
     ]
    }
   ],
   "source": [
    "import numpy as np\n",
    "from keras.utils import to_categorical\n",
    "from keras import models\n",
    "from keras.callbacks import ModelCheckpoint\n",
    "from keras import layers\n",
    "from sklearn.metrics import accuracy_score, f1_score, precision_score, recall_score, classification_report, confusion_matrix\n",
    "import pickle\n",
    "import os\n",
    "os.environ[\"CUDA_VISIBLE_DEVICES\"]=\"2\"\n"
   ]
  },
  {
   "cell_type": "code",
   "execution_count": null,
   "metadata": {},
   "outputs": [],
   "source": [
    "DATA = \"ARTINT\""
   ]
  },
  {
   "cell_type": "code",
   "execution_count": 2,
   "metadata": {},
   "outputs": [
    {
     "name": "stdout",
     "output_type": "stream",
     "text": [
      "Sun Jan 13 12:33:08 2019       \n",
      "+-----------------------------------------------------------------------------+\n",
      "| NVIDIA-SMI 384.111                Driver Version: 384.111                   |\n",
      "|-------------------------------+----------------------+----------------------+\n",
      "| GPU  Name        Persistence-M| Bus-Id        Disp.A | Volatile Uncorr. ECC |\n",
      "| Fan  Temp  Perf  Pwr:Usage/Cap|         Memory-Usage | GPU-Util  Compute M. |\n",
      "|===============================+======================+======================|\n",
      "|   0  GeForce GTX 108...  Off  | 00000000:04:00.0  On |                  N/A |\n",
      "|  0%   35C    P8    18W / 250W |    272MiB / 11172MiB |      0%      Default |\n",
      "+-------------------------------+----------------------+----------------------+\n",
      "|   1  GeForce GTX 108...  Off  | 00000000:05:00.0 Off |                  N/A |\n",
      "| 23%   35C    P8    16W / 250W |    506MiB / 11172MiB |      0%      Default |\n",
      "+-------------------------------+----------------------+----------------------+\n",
      "|   2  GeForce GTX 108...  Off  | 00000000:08:00.0 Off |                  N/A |\n",
      "|  0%   36C    P8    18W / 250W |      2MiB / 11172MiB |      0%      Default |\n",
      "+-------------------------------+----------------------+----------------------+\n",
      "|   3  GeForce GTX 108...  Off  | 00000000:0A:00.0 Off |                  N/A |\n",
      "| 28%   49C    P2    78W / 250W |   6105MiB / 11172MiB |     78%      Default |\n",
      "+-------------------------------+----------------------+----------------------+\n",
      "|   4  GeForce GTX 108...  Off  | 00000000:84:00.0 Off |                  N/A |\n",
      "| 31%   60C    P2    63W / 250W |   8506MiB / 11172MiB |     16%      Default |\n",
      "+-------------------------------+----------------------+----------------------+\n",
      "|   5  GeForce GTX 108...  Off  | 00000000:85:00.0 Off |                  N/A |\n",
      "| 23%   39C    P8    17W / 250W |    706MiB / 11172MiB |      0%      Default |\n",
      "+-------------------------------+----------------------+----------------------+\n",
      "|   6  GeForce GTX 108...  Off  | 00000000:88:00.0 Off |                  N/A |\n",
      "| 26%   47C    P2    57W / 250W |   2302MiB / 11172MiB |     22%      Default |\n",
      "+-------------------------------+----------------------+----------------------+\n",
      "|   7  GeForce GTX 108...  Off  | 00000000:89:00.0 Off |                  N/A |\n",
      "| 31%   59C    P2    82W / 250W |  10776MiB / 11172MiB |     44%      Default |\n",
      "+-------------------------------+----------------------+----------------------+\n",
      "                                                                               \n",
      "+-----------------------------------------------------------------------------+\n",
      "| Processes:                                                       GPU Memory |\n",
      "|  GPU       PID   Type   Process name                             Usage      |\n",
      "|=============================================================================|\n",
      "|    0      4670      G   /usr/lib/xorg/Xorg                            50MiB |\n",
      "|    0     24425      C   ...1/tanik/anaconda3/envs/tfgpu/bin/python   209MiB |\n",
      "|    1     46423      C   ...1/tanik/anaconda3/envs/tfgpu/bin/python   495MiB |\n",
      "|    3     22182      C   python                                      2291MiB |\n",
      "|    3     22346      C   python                                      1267MiB |\n",
      "|    3     22551      C   python                                      1267MiB |\n",
      "|    3     22758      C   python                                      1267MiB |\n",
      "|    4     24203      C   python                                      8495MiB |\n",
      "|    5     13418      C   /home1/tirthankar/miniconda2/bin/python      695MiB |\n",
      "|    6     35449      C   python                                      2291MiB |\n",
      "|    7      3392      C   python                                     10765MiB |\n",
      "+-----------------------------------------------------------------------------+\n"
     ]
    }
   ],
   "source": [
    "!nvidia-smi"
   ]
  },
  {
   "cell_type": "code",
   "execution_count": 3,
   "metadata": {},
   "outputs": [],
   "source": [
    "d_feature_vector = pickle.load(open(DATA+\"_train_only_bib_feature_vector.p\", \"rb\"))\n",
    "d_feature_vector_test = pickle.load(open(DATA+\"_test_only_bib_feature_vector.p\", \"rb\"))\n",
    "\n"
   ]
  },
  {
   "cell_type": "code",
   "execution_count": 4,
   "metadata": {},
   "outputs": [
    {
     "name": "stdout",
     "output_type": "stream",
     "text": [
      "(3056, 9000)\n"
     ]
    }
   ],
   "source": [
    "\n",
    "x_train = []\n",
    "y_train = []\n",
    "for i in d_feature_vector.keys():\n",
    "    x_train.append(d_feature_vector[i])\n",
    "    label = 1.0\n",
    "    if i.startswith(\"neg_\"):\n",
    "        label = 0.0\n",
    "    y_train.append(label)\n",
    "x_train = np.array(x_train)\n",
    "y_train = np.array(y_train)\n",
    "\n",
    "print(x_train.shape)\n"
   ]
  },
  {
   "cell_type": "code",
   "execution_count": 5,
   "metadata": {},
   "outputs": [
    {
     "name": "stdout",
     "output_type": "stream",
     "text": [
      "(768, 9000)\n"
     ]
    }
   ],
   "source": [
    "\n",
    "x_test = []\n",
    "y_test = []\n",
    "for i in d_feature_vector_test.keys():\n",
    "    x_test.append(d_feature_vector_test[i])\n",
    "    label = 1.0\n",
    "    if i.startswith(\"neg_\"):\n",
    "        label = 0.0\n",
    "    y_test.append(label)\n",
    "x_test = np.array(x_test)\n",
    "y_test = np.array(y_test)\n",
    "\n",
    "print(x_test.shape)\n"
   ]
  },
  {
   "cell_type": "code",
   "execution_count": 6,
   "metadata": {},
   "outputs": [
    {
     "name": "stdout",
     "output_type": "stream",
     "text": [
      "364\n"
     ]
    }
   ],
   "source": [
    "c = 0\n",
    "for i in y_test:\n",
    "    if i == 0.0:\n",
    "        c = c+ 1\n",
    "print(c)"
   ]
  },
  {
   "cell_type": "code",
   "execution_count": 7,
   "metadata": {},
   "outputs": [
    {
     "name": "stdout",
     "output_type": "stream",
     "text": [
      "_________________________________________________________________\n",
      "Layer (type)                 Output Shape              Param #   \n",
      "=================================================================\n",
      "dense_1 (Dense)              (None, 50)                450050    \n",
      "_________________________________________________________________\n",
      "dropout_1 (Dropout)          (None, 50)                0         \n",
      "_________________________________________________________________\n",
      "dense_2 (Dense)              (None, 50)                2550      \n",
      "_________________________________________________________________\n",
      "dropout_2 (Dropout)          (None, 50)                0         \n",
      "_________________________________________________________________\n",
      "dense_3 (Dense)              (None, 50)                2550      \n",
      "_________________________________________________________________\n",
      "dense_4 (Dense)              (None, 1)                 51        \n",
      "=================================================================\n",
      "Total params: 455,201\n",
      "Trainable params: 455,201\n",
      "Non-trainable params: 0\n",
      "_________________________________________________________________\n"
     ]
    }
   ],
   "source": [
    "# Input - Layer\n",
    "model = models.Sequential()\n",
    "model.add(layers.Dense(50, activation = \"relu\", input_dim=9000))\n",
    "# Hidden - Layers\n",
    "model.add(layers.Dropout(0.3, noise_shape=None, seed=None))\n",
    "model.add(layers.Dense(50, activation = \"relu\"))\n",
    "model.add(layers.Dropout(0.3, noise_shape=None, seed=None))\n",
    "model.add(layers.Dense(50, activation = \"relu\"))\n",
    "# Output- Layer\n",
    "model.add(layers.Dense(1, activation = \"sigmoid\"))\n",
    "\n",
    "model.summary()\n"
   ]
  },
  {
   "cell_type": "code",
   "execution_count": 8,
   "metadata": {},
   "outputs": [],
   "source": [
    "model.compile( optimizer = \"adam\", loss = \"binary_crossentropy\", metrics = [\"accuracy\"])\n",
    "checkpoint = ModelCheckpoint(DATA+'-only-bib-model-best.h5', verbose=1, monitor='val_loss',save_best_only=True, mode='auto')  \n"
   ]
  },
  {
   "cell_type": "code",
   "execution_count": 9,
   "metadata": {},
   "outputs": [
    {
     "name": "stdout",
     "output_type": "stream",
     "text": [
      "Train on 3056 samples, validate on 768 samples\n",
      "Epoch 1/10\n",
      "3056/3056 [==============================] - 2s 764us/step - loss: 0.4367 - acc: 0.7968 - val_loss: 0.2969 - val_acc: 0.8659\n",
      "\n",
      "Epoch 00001: val_loss improved from inf to 0.29692, saving model to JNCA-only-bib-model-best.h5\n",
      "Epoch 2/10\n",
      "3056/3056 [==============================] - 1s 168us/step - loss: 0.2102 - acc: 0.9126 - val_loss: 0.3003 - val_acc: 0.8763\n",
      "\n",
      "Epoch 00002: val_loss did not improve from 0.29692\n",
      "Epoch 3/10\n",
      "3056/3056 [==============================] - 1s 175us/step - loss: 0.1317 - acc: 0.9496 - val_loss: 0.3386 - val_acc: 0.8776\n",
      "\n",
      "Epoch 00003: val_loss did not improve from 0.29692\n",
      "Epoch 4/10\n",
      "3056/3056 [==============================] - 0s 162us/step - loss: 0.0942 - acc: 0.9617 - val_loss: 0.4460 - val_acc: 0.8815\n",
      "\n",
      "Epoch 00004: val_loss did not improve from 0.29692\n",
      "Epoch 5/10\n",
      "3056/3056 [==============================] - 1s 164us/step - loss: 0.0779 - acc: 0.9627 - val_loss: 0.5358 - val_acc: 0.8789\n",
      "\n",
      "Epoch 00005: val_loss did not improve from 0.29692\n",
      "Epoch 6/10\n",
      "3056/3056 [==============================] - 0s 160us/step - loss: 0.0750 - acc: 0.9660 - val_loss: 0.5605 - val_acc: 0.8841\n",
      "\n",
      "Epoch 00006: val_loss did not improve from 0.29692\n",
      "Epoch 7/10\n",
      "3056/3056 [==============================] - 0s 161us/step - loss: 0.0781 - acc: 0.9640 - val_loss: 0.5664 - val_acc: 0.8711\n",
      "\n",
      "Epoch 00007: val_loss did not improve from 0.29692\n",
      "Epoch 8/10\n",
      "3056/3056 [==============================] - 0s 157us/step - loss: 0.0772 - acc: 0.9653 - val_loss: 0.5572 - val_acc: 0.8776\n",
      "\n",
      "Epoch 00008: val_loss did not improve from 0.29692\n",
      "Epoch 9/10\n",
      "3056/3056 [==============================] - 0s 163us/step - loss: 0.0746 - acc: 0.9647 - val_loss: 0.5448 - val_acc: 0.8685\n",
      "\n",
      "Epoch 00009: val_loss did not improve from 0.29692\n",
      "Epoch 10/10\n",
      "3056/3056 [==============================] - 1s 170us/step - loss: 0.0692 - acc: 0.9666 - val_loss: 0.5860 - val_acc: 0.8880\n",
      "\n",
      "Epoch 00010: val_loss did not improve from 0.29692\n"
     ]
    }
   ],
   "source": [
    "results = model.fit( x_train,y_train, epochs= 10, batch_size = 32, callbacks = [checkpoint],validation_data = (x_test, y_test))\n"
   ]
  },
  {
   "cell_type": "code",
   "execution_count": 10,
   "metadata": {},
   "outputs": [],
   "source": [
    "model.load_weights(DATA+'-only-bib-model-best.h5', by_name = True)\n",
    "predicted =  model.predict(x_test)\n",
    "for i in range(len(predicted)):\n",
    "    if predicted[i] >= 0.5:\n",
    "        predicted[i] = 1.0\n",
    "    else :\n",
    "        predicted[i] = 0.0"
   ]
  },
  {
   "cell_type": "code",
   "execution_count": 11,
   "metadata": {},
   "outputs": [
    {
     "name": "stdout",
     "output_type": "stream",
     "text": [
      "fscore 0.865883370209303\n",
      "precision 0.8677590764233829\n",
      "recall 0.868036666303993\n",
      "             precision    recall  f1-score   support\n",
      "\n",
      "        0.0       0.83      0.91      0.87       364\n",
      "        1.0       0.91      0.83      0.87       404\n",
      "\n",
      "avg / total       0.87      0.87      0.87       768\n",
      "\n"
     ]
    }
   ],
   "source": [
    "print(\"fscore\",f1_score(y_test, predicted, average=\"macro\"))\n",
    "print(\"precision\",precision_score(y_test, predicted, average=\"macro\"))\n",
    "print(\"recall\",recall_score(y_test, predicted, average=\"macro\"))    \n",
    "\n",
    "x = classification_report(y_test,predicted)\n",
    "print(x)"
   ]
  },
  {
   "cell_type": "code",
   "execution_count": null,
   "metadata": {},
   "outputs": [],
   "source": [
    "model.save(DATA+'only_bib_model')"
   ]
  },
  {
   "cell_type": "code",
   "execution_count": null,
   "metadata": {},
   "outputs": [],
   "source": []
  }
 ],
 "metadata": {
  "kernelspec": {
   "display_name": "Python [conda env:raghav_btp]",
   "language": "python",
   "name": "conda-env-raghav_btp-py"
  },
  "language_info": {
   "codemirror_mode": {
    "name": "ipython",
    "version": 3
   },
   "file_extension": ".py",
   "mimetype": "text/x-python",
   "name": "python",
   "nbconvert_exporter": "python",
   "pygments_lexer": "ipython3",
   "version": "3.6.6"
  }
 },
 "nbformat": 4,
 "nbformat_minor": 2
}
