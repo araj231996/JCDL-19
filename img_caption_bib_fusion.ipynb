{
 "cells": [
  {
   "cell_type": "code",
   "execution_count": 2,
   "metadata": {},
   "outputs": [
    {
     "name": "stderr",
     "output_type": "stream",
     "text": [
      "Using TensorFlow backend.\n"
     ]
    }
   ],
   "source": [
    "import numpy as np\n",
    "import keras\n",
    "from keras.models import Model, load_model\n",
    "from keras.layers import Dense, Input, Concatenate, Dropout, Add, Lambda\n",
    "from keras import regularizers\n",
    "from keras import backend as K\n",
    "from keras.callbacks import ModelCheckpoint\n",
    "import os\n",
    "from keras.engine.topology import Layer\n",
    "import pickle\n",
    "from sklearn.metrics import accuracy_score, f1_score, precision_score, recall_score, classification_report, confusion_matrix\n",
    "from sklearn.metrics import accuracy_score, f1_score, precision_score, recall_score, classification_report, confusion_matrix\n",
    "os.environ[\"CUDA_VISIBLE_DEVICES\"]=\"6\"\n",
    "\n"
   ]
  },
  {
   "cell_type": "code",
   "execution_count": null,
   "metadata": {},
   "outputs": [],
   "source": [
    "DATA = \"ARTINT\""
   ]
  },
  {
   "cell_type": "code",
   "execution_count": 3,
   "metadata": {},
   "outputs": [
    {
     "name": "stdout",
     "output_type": "stream",
     "text": [
      "Sun Jan 13 15:19:08 2019       \n",
      "+-----------------------------------------------------------------------------+\n",
      "| NVIDIA-SMI 384.111                Driver Version: 384.111                   |\n",
      "|-------------------------------+----------------------+----------------------+\n",
      "| GPU  Name        Persistence-M| Bus-Id        Disp.A | Volatile Uncorr. ECC |\n",
      "| Fan  Temp  Perf  Pwr:Usage/Cap|         Memory-Usage | GPU-Util  Compute M. |\n",
      "|===============================+======================+======================|\n",
      "|   0  GeForce GTX 108...  Off  | 00000000:04:00.0  On |                  N/A |\n",
      "| 35%   64C    P2    74W / 250W |   9081MiB / 11172MiB |     35%      Default |\n",
      "+-------------------------------+----------------------+----------------------+\n",
      "|   1  GeForce GTX 108...  Off  | 00000000:05:00.0 Off |                  N/A |\n",
      "| 23%   36C    P8    16W / 250W |    506MiB / 11172MiB |      0%      Default |\n",
      "+-------------------------------+----------------------+----------------------+\n",
      "|   2  GeForce GTX 108...  Off  | 00000000:08:00.0 Off |                  N/A |\n",
      "|  0%   37C    P8    18W / 250W |      2MiB / 11172MiB |      0%      Default |\n",
      "+-------------------------------+----------------------+----------------------+\n",
      "|   3  GeForce GTX 108...  Off  | 00000000:0A:00.0 Off |                  N/A |\n",
      "| 29%   51C    P2    79W / 250W |   6318MiB / 11172MiB |     81%      Default |\n",
      "+-------------------------------+----------------------+----------------------+\n",
      "|   4  GeForce GTX 108...  Off  | 00000000:84:00.0 Off |                  N/A |\n",
      "|  0%   40C    P8    17W / 250W |      2MiB / 11172MiB |      0%      Default |\n",
      "+-------------------------------+----------------------+----------------------+\n",
      "|   5  GeForce GTX 108...  Off  | 00000000:85:00.0 Off |                  N/A |\n",
      "| 23%   36C    P8    17W / 250W |    706MiB / 11172MiB |      0%      Default |\n",
      "+-------------------------------+----------------------+----------------------+\n",
      "|   6  GeForce GTX 108...  Off  | 00000000:88:00.0 Off |                  N/A |\n",
      "| 23%   31C    P8    16W / 250W |      2MiB / 11172MiB |      0%      Default |\n",
      "+-------------------------------+----------------------+----------------------+\n",
      "|   7  GeForce GTX 108...  Off  | 00000000:89:00.0 Off |                  N/A |\n",
      "|  0%   34C    P8    18W / 250W |      2MiB / 11172MiB |      0%      Default |\n",
      "+-------------------------------+----------------------+----------------------+\n",
      "                                                                               \n",
      "+-----------------------------------------------------------------------------+\n",
      "| Processes:                                                       GPU Memory |\n",
      "|  GPU       PID   Type   Process name                             Usage      |\n",
      "|=============================================================================|\n",
      "|    0      4670      G   /usr/lib/xorg/Xorg                            50MiB |\n",
      "|    0     19107      C   python                                      8809MiB |\n",
      "|    0     24425      C   ...1/tanik/anaconda3/envs/tfgpu/bin/python   209MiB |\n",
      "|    1     46423      C   ...1/tanik/anaconda3/envs/tfgpu/bin/python   495MiB |\n",
      "|    3     15364      C   /home1/dushyant/anaconda2/bin/python         213MiB |\n",
      "|    3     22182      C   python                                      2291MiB |\n",
      "|    3     22346      C   python                                      1267MiB |\n",
      "|    3     22551      C   python                                      1267MiB |\n",
      "|    3     22758      C   python                                      1267MiB |\n",
      "|    5     13418      C   /home1/tirthankar/miniconda2/bin/python      695MiB |\n",
      "+-----------------------------------------------------------------------------+\n"
     ]
    }
   ],
   "source": [
    "!nvidia-smi"
   ]
  },
  {
   "cell_type": "code",
   "execution_count": 11,
   "metadata": {},
   "outputs": [],
   "source": [
    "#load train data\n",
    "train_img_filename =  pickle.load(open(DATA+\"_train_img_filename_for_img_modal_vector.p\", \"rb\"))\n",
    "train_img_feature_vector = np.load(DATA+'_train_img_modal_vector.npy')\n",
    "train_caption_feature_vector = pickle.load(open(DATA+\"_train_image_caption_feature_vector.p\", \"rb\"))\n",
    "train_text_filename = pickle.load(open(DATA+\"_train_fulltext_filename_final.p\", \"rb\"))\n",
    "train_text_feature_vector =  np.load(DATA+\"_train_full_text_modality_feature.npy\")\n",
    "train_bib_feature_vector =  pickle.load(open(DATA+\"_train_only_bib_feature_vector_final.p\", \"rb\"))\n",
    "\n"
   ]
  },
  {
   "cell_type": "code",
   "execution_count": 12,
   "metadata": {},
   "outputs": [],
   "source": [
    "#load test data\n",
    "test_img_filename = pickle.load(open(DATA+\"_test_img_filename_for_img_modal_vector.p\", \"rb\"))\n",
    "test_img_feature_vector = np.load(DATA+'_test_img_modal_vector.npy')\n",
    "test_caption_feature_vector = pickle.load(open(DATA+\"_test_image_caption_feature_vector.p\", \"rb\"))\n",
    "test_text_filename = pickle.load(open(DATA+\"_test_fulltext_filename_final.p\", \"rb\"))\n",
    "test_text_feature_vector = np.load(DATA+\"_test_full_text_modality_feature.npy\")\n",
    "test_bib_feature_vector = pickle.load(open(DATA+\"_test_only_bib_feature_vector_final.p\", \"rb\"))\n"
   ]
  },
  {
   "cell_type": "code",
   "execution_count": 13,
   "metadata": {},
   "outputs": [],
   "source": [
    "#print(len(train_img_filename))\n",
    "#print(len(train_text_filename))\n",
    "#print(train_caption_feature_vector.keys())\n",
    "#print(train_bib_feature_vector.keys())"
   ]
  },
  {
   "cell_type": "code",
   "execution_count": 14,
   "metadata": {},
   "outputs": [],
   "source": [
    "fv_img = []\n",
    "fv_img_caption = []\n",
    "fv_bib = []\n",
    "train_labels = []\n",
    "for i in range(len(train_img_filename)):\n",
    "    for j in range(len(train_text_filename)):\n",
    "        if train_img_filename[i] in train_text_filename[j]:\n",
    "            if train_text_filename[j] not in train_caption_feature_vector.keys():\n",
    "                continue\n",
    "            if train_text_filename[j] not in train_bib_feature_vector.keys():\n",
    "                    continue\n",
    "            fv_img.append(train_img_feature_vector[i])\n",
    "            fv_img_caption.append(train_caption_feature_vector[train_text_filename[j]])\n",
    "            fv_bib.append(train_bib_feature_vector[train_text_filename[j]])\n",
    "            label = 1.0\n",
    "            if 'neg_' in train_img_filename[i]:\n",
    "                label = 0.0\n",
    "            train_labels.append(label)\n",
    "\n",
    "fv_img = np.array(fv_img)\n",
    "fv_img_caption = np.array(fv_img_caption)\n",
    "fv_bib = np.array(fv_bib)"
   ]
  },
  {
   "cell_type": "code",
   "execution_count": 15,
   "metadata": {},
   "outputs": [],
   "source": [
    "fv_img_test = []\n",
    "fv_img_test_caption = []\n",
    "fv_bib_test = []\n",
    "test_labels = []\n",
    "for i in range(len(test_img_filename)):\n",
    "    for j in range(len(test_text_filename)):\n",
    "        if test_img_filename[i] in test_text_filename[j]:\n",
    "            if test_text_filename[j] not in test_caption_feature_vector.keys():\n",
    "                continue\n",
    "            if test_text_filename[j] not in test_bib_feature_vector.keys():\n",
    "                print(test_text_filename[j])\n",
    "            fv_img_test.append(test_img_feature_vector[i])\n",
    "            fv_img_test_caption.append(test_caption_feature_vector[test_text_filename[j]])\n",
    "            fv_bib_test.append(test_bib_feature_vector[test_text_filename[j]])\n",
    "            label = 1.0\n",
    "            if 'neg_' in test_img_filename[i]:\n",
    "                label = 0.0\n",
    "            test_labels.append(label)\n",
    "            \n",
    "fv_img_test = np.array(fv_img_test)\n",
    "fv_img_test_caption = np.array(fv_img_test_caption)\n",
    "fv_bib_test = np.array(fv_bib_test)"
   ]
  },
  {
   "cell_type": "code",
   "execution_count": 19,
   "metadata": {},
   "outputs": [
    {
     "name": "stdout",
     "output_type": "stream",
     "text": [
      "(3056, 4096)\n",
      "(3056, 5716)\n",
      "(3056, 9000)\n",
      "(768, 4096)\n",
      "(768, 5716)\n",
      "(768, 9000)\n"
     ]
    }
   ],
   "source": [
    "print(fv_img.shape)\n",
    "print(fv_img_caption.shape)\n",
    "print(fv_bib.shape)\n",
    "print(fv_img_test.shape)\n",
    "print(fv_img_test_caption.shape)\n",
    "print(fv_bib_test.shape)\n"
   ]
  },
  {
   "cell_type": "code",
   "execution_count": 21,
   "metadata": {},
   "outputs": [],
   "source": [
    "#model\n",
    "\n",
    "IMG_FEATURES = Input(shape = (4096,))\n",
    "IMG_CAPTIONS = Input(shape = (5716,))\n",
    "BIB = Input(shape = (9000,))\n",
    "\n",
    "B = Concatenate(axis = 1)([IMG_FEATURES, IMG_CAPTIONS, BIB])\n",
    "\n",
    "P = Dense(512, activation = 'relu')(B)\n",
    "\n",
    "alpha = Dense(3, activation = 'softmax')(P)\n",
    "\n",
    "F = Lambda(lambda x : alpha[:,0:1]*IMG_FEATURES)(alpha)\n",
    "G = Lambda(lambda x : alpha[:,1:2]*IMG_CAPTIONS)(alpha)\n",
    "I = Lambda(lambda x : alpha[:,2:3]*BIB)(alpha)\n",
    "Y = Concatenate(axis = -1)([F,G,I])\n",
    "\n",
    "Y = Dense(2000, activation = 'relu')(Y)\n",
    "Y = Dropout(rate = 0.2)(Y)\n",
    "\n",
    "Y = Dense(512, activation = 'relu')(Y)\t\t#, kernel_regularizer = regularizers.l2(0.01)\n",
    "Y = Dropout(rate = 0.25)(Y)\n",
    "\n",
    "Y = Dense(512, activation = 'relu')(Y)\n",
    "Y = Dropout(rate = 0.2)(Y)\n",
    "\n",
    "Y = Dense(1, activation = 'sigmoid')(Y)\n",
    "\n",
    "model = Model(inputs = [IMG_FEATURES, IMG_CAPTIONS, BIB], outputs = Y)"
   ]
  },
  {
   "cell_type": "code",
   "execution_count": null,
   "metadata": {},
   "outputs": [
    {
     "name": "stdout",
     "output_type": "stream",
     "text": [
      "Train on 3056 samples, validate on 768 samples\n",
      "Epoch 1/20\n",
      "3056/3056 [==============================] - 10s 3ms/step - loss: 0.3809 - acc: 0.8331 - val_loss: 0.2746 - val_acc: 0.8828\n",
      "\n",
      "Epoch 00001: val_loss improved from inf to 0.27464, saving model to model-img-caption-bib-best.h5\n",
      "Epoch 2/20\n",
      "3056/3056 [==============================] - 2s 657us/step - loss: 0.1417 - acc: 0.9444 - val_loss: 0.3560 - val_acc: 0.8867\n",
      "\n",
      "Epoch 00002: val_loss did not improve from 0.27464\n",
      "Epoch 3/20\n",
      "3056/3056 [==============================] - 2s 661us/step - loss: 0.0836 - acc: 0.9627 - val_loss: 0.5270 - val_acc: 0.8893\n",
      "\n",
      "Epoch 00003: val_loss did not improve from 0.27464\n",
      "Epoch 4/20\n",
      "3056/3056 [==============================] - 2s 676us/step - loss: 0.0721 - acc: 0.9663 - val_loss: 0.5731 - val_acc: 0.8711\n",
      "\n",
      "Epoch 00004: val_loss did not improve from 0.27464\n",
      "Epoch 5/20\n",
      "3056/3056 [==============================] - 2s 703us/step - loss: 0.0729 - acc: 0.9666 - val_loss: 0.5852 - val_acc: 0.8828\n",
      "\n",
      "Epoch 00005: val_loss did not improve from 0.27464\n",
      "Epoch 6/20\n",
      "3056/3056 [==============================] - 2s 608us/step - loss: 0.0697 - acc: 0.9663 - val_loss: 0.6486 - val_acc: 0.8737\n",
      "\n",
      "Epoch 00006: val_loss did not improve from 0.27464\n",
      "Epoch 7/20\n",
      "3056/3056 [==============================] - 2s 613us/step - loss: 0.0657 - acc: 0.9670 - val_loss: 0.6928 - val_acc: 0.8750\n",
      "\n",
      "Epoch 00007: val_loss did not improve from 0.27464\n",
      "Epoch 8/20\n",
      "3056/3056 [==============================] - 2s 614us/step - loss: 0.0655 - acc: 0.9673 - val_loss: 0.7276 - val_acc: 0.8724\n",
      "\n",
      "Epoch 00008: val_loss did not improve from 0.27464\n",
      "Epoch 9/20\n",
      "3056/3056 [==============================] - 2s 630us/step - loss: 0.0643 - acc: 0.9670 - val_loss: 0.7276 - val_acc: 0.8763\n",
      "\n",
      "Epoch 00009: val_loss did not improve from 0.27464\n",
      "Epoch 10/20\n",
      "3056/3056 [==============================] - 2s 604us/step - loss: 0.0654 - acc: 0.9676 - val_loss: 0.7278 - val_acc: 0.8750\n",
      "\n",
      "Epoch 00010: val_loss did not improve from 0.27464\n",
      "Epoch 11/20\n",
      "3056/3056 [==============================] - 2s 617us/step - loss: 0.0653 - acc: 0.9673 - val_loss: 0.7248 - val_acc: 0.8750\n",
      "\n",
      "Epoch 00011: val_loss did not improve from 0.27464\n",
      "Epoch 12/20\n",
      "3056/3056 [==============================] - 2s 633us/step - loss: 0.0650 - acc: 0.9673 - val_loss: 0.7534 - val_acc: 0.8750\n",
      "\n",
      "Epoch 00012: val_loss did not improve from 0.27464\n",
      "Epoch 13/20\n",
      "3056/3056 [==============================] - 2s 603us/step - loss: 0.0644 - acc: 0.9676 - val_loss: 0.7621 - val_acc: 0.8750\n",
      "\n",
      "Epoch 00013: val_loss did not improve from 0.27464\n",
      "Epoch 14/20\n",
      "3056/3056 [==============================] - 2s 560us/step - loss: 0.0648 - acc: 0.9666 - val_loss: 0.7906 - val_acc: 0.8750\n",
      "\n",
      "Epoch 00014: val_loss did not improve from 0.27464\n",
      "Epoch 15/20\n",
      "3056/3056 [==============================] - 2s 580us/step - loss: 0.0638 - acc: 0.9676 - val_loss: 0.7932 - val_acc: 0.8724\n",
      "\n",
      "Epoch 00015: val_loss did not improve from 0.27464\n",
      "Epoch 16/20\n",
      "3056/3056 [==============================] - 2s 588us/step - loss: 0.0641 - acc: 0.9676 - val_loss: 0.8183 - val_acc: 0.8724\n",
      "\n",
      "Epoch 00016: val_loss did not improve from 0.27464\n",
      "Epoch 17/20\n",
      "3056/3056 [==============================] - 2s 606us/step - loss: 0.0651 - acc: 0.9676 - val_loss: 0.8197 - val_acc: 0.8724\n",
      "\n",
      "Epoch 00017: val_loss did not improve from 0.27464\n",
      "Epoch 18/20\n",
      "3056/3056 [==============================] - 2s 582us/step - loss: 0.0642 - acc: 0.9676 - val_loss: 0.8299 - val_acc: 0.8737\n",
      "\n",
      "Epoch 00018: val_loss did not improve from 0.27464\n",
      "Epoch 19/20\n",
      "1984/3056 [==================>...........] - ETA: 0s - loss: 0.0580 - acc: 0.9703"
     ]
    }
   ],
   "source": [
    "checkpoint = ModelCheckpoint(DATA+'model-img-caption-bib-best.h5', verbose=1, monitor='val_loss',save_best_only=True, mode='auto')  \n",
    "\n",
    "model.compile(loss='binary_crossentropy', optimizer='adam', metrics=['acc'])\n",
    "\n",
    "results = model.fit( [fv_img,fv_img_caption,fv_bib],train_labels, epochs= 20, batch_size = 64,validation_data=([fv_img_test,fv_img_test_caption,fv_bib_test],test_labels),callbacks=[checkpoint])\n"
   ]
  },
  {
   "cell_type": "code",
   "execution_count": null,
   "metadata": {},
   "outputs": [],
   "source": [
    "predicted = model.predict([fv_img_test,fv_img_test_caption,fv_bib_test])"
   ]
  },
  {
   "cell_type": "code",
   "execution_count": null,
   "metadata": {},
   "outputs": [],
   "source": [
    "for i in range(len(predicted)):\n",
    "    if predicted[i] >= 0.5:\n",
    "        predicted[i] = 1.0\n",
    "    else :\n",
    "        predicted[i] = 0.0"
   ]
  },
  {
   "cell_type": "code",
   "execution_count": null,
   "metadata": {},
   "outputs": [],
   "source": [
    "print(\"fscore\",f1_score(test_labels, predicted, average=\"macro\"))\n",
    "print(\"precision\",precision_score(test_labels, predicted, average=\"macro\"))\n",
    "print(\"recall\",recall_score(test_labels, predicted, average=\"macro\"))    \n",
    "\n",
    "x = classification_report(test_labels,predicted)\n",
    "print(x)"
   ]
  },
  {
   "cell_type": "code",
   "execution_count": null,
   "metadata": {},
   "outputs": [],
   "source": [
    "model.save(DATA+'image-caption-bib-model')"
   ]
  },
  {
   "cell_type": "code",
   "execution_count": null,
   "metadata": {},
   "outputs": [],
   "source": []
  }
 ],
 "metadata": {
  "kernelspec": {
   "display_name": "Python [conda env:raghav_btp]",
   "language": "python",
   "name": "conda-env-raghav_btp-py"
  },
  "language_info": {
   "codemirror_mode": {
    "name": "ipython",
    "version": 3
   },
   "file_extension": ".py",
   "mimetype": "text/x-python",
   "name": "python",
   "nbconvert_exporter": "python",
   "pygments_lexer": "ipython3",
   "version": "3.6.6"
  }
 },
 "nbformat": 4,
 "nbformat_minor": 2
}
