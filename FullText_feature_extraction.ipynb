{
 "cells": [
  {
   "cell_type": "code",
   "execution_count": 1,
   "metadata": {},
   "outputs": [],
   "source": [
    "from os import listdir\n",
    "from os.path import isfile, join\n",
    "import json\n",
    "import re\n",
    "import numpy as np\n",
    "import nltk\n",
    "from nltk.tokenize import word_tokenize,sent_tokenize\n",
    "from nltk.corpus import stopwords\n",
    "import string \n",
    "import pickle\n",
    "\n",
    "import numpy as np\n",
    "import itertools as it\n",
    "import tensorflow as tf\n",
    "import tensorflow_hub as hub"
   ]
  },
  {
   "cell_type": "code",
   "execution_count": 2,
   "metadata": {},
   "outputs": [],
   "source": [
    "DATA = \"ARTINT\""
   ]
  },
  {
   "cell_type": "code",
   "execution_count": 3,
   "metadata": {},
   "outputs": [],
   "source": [
    "bib_text_path_1 = \"/home1/tirthankar/btpfinal/dataset/\"+DATA+\"/train/positive_bib_part/\"\n",
    "bib_text_path_2 = \"/home1/tirthankar/btpfinal/dataset/\"+DATA+\"/train/negative_bib_part/\""
   ]
  },
  {
   "cell_type": "code",
   "execution_count": 9,
   "metadata": {},
   "outputs": [],
   "source": [
    "def get_sentences(x,path,word_document_list,file_name,prefix):\n",
    "    c = 0\n",
    "    for file in x:\n",
    "        c = c+1\n",
    "        if c%100 == 0:\n",
    "            print(c)\n",
    "        \n",
    "        key = prefix+file\n",
    "        file_name.append(key)\n",
    "        with open(join(path,file),encoding=\"utf8\") as input_file:\n",
    "            data = json.load(input_file)\n",
    "            abstract = []\n",
    "            if data['metadata']['sections'] is not None:\n",
    "                full_text = data['metadata']['sections']\n",
    "                full_text_str = \"\"\n",
    "                for i in range(len(full_text)):\n",
    "                    full_text_str = full_text_str + full_text[i]['text']\n",
    "                full_text_str = nltk.sent_tokenize(full_text_str.lower())\n",
    "                if len(full_text_str) > 500:\n",
    "                    full_text_str = full_text_str[:500]\n",
    "            word_document_list.append(full_text_str)\n"
   ]
  },
  {
   "cell_type": "code",
   "execution_count": 10,
   "metadata": {},
   "outputs": [],
   "source": [
    "def run(sentence):\n",
    "    with tf.Graph().as_default():\n",
    "        embed = hub.Module(\"https://tfhub.dev/google/universal-sentence-encoder/2\")\n",
    "        messages = tf.placeholder(dtype=tf.string, shape=[None])\n",
    "        output = embed(messages)\n",
    "        with tf.Session() as session:\n",
    "            session.run([tf.global_variables_initializer(), tf.tables_initializer()])\n",
    "            embeddings = session.run(output, feed_dict={messages: sentence})\n",
    "    return embeddings\n",
    "\n",
    "\n",
    "# embed the input x and pad appropriately\n",
    "def embed(x):\n",
    "    lens = list(map(lambda i:len(i), x))\n",
    "    x = list(it.chain.from_iterable(x))\n",
    "    print('Total sentences to be embedded: {}'.format(len(x)))\n",
    "    emb = run(x)\n",
    "    print(\"embedding done..\")\n",
    "    embedded = []\n",
    "    zero = [0]*512\n",
    "    ir = iter(emb)\n",
    "    for i, l in enumerate(lens):\n",
    "        if i%100 ==0:\n",
    "            print(i)\n",
    "        z = []\n",
    "        while len(z)<l:\n",
    "            z.append(next(ir).tolist())\n",
    "        embedded.append(z)\n",
    "    print(\"Adding zero vector\")\n",
    "    embedded = np.array(list(zip(*list(it.zip_longest(*embedded, fillvalue = zero)))))\n",
    "   # print(embedded.shape)\n",
    "    return embedded\n"
   ]
  },
  {
   "cell_type": "code",
   "execution_count": null,
   "metadata": {},
   "outputs": [
    {
     "name": "stdout",
     "output_type": "stream",
     "text": [
      "100\n",
      "Total sentences to be embedded: 49265\n",
      "INFO:tensorflow:Using /tmp/tfhub_modules to cache modules.\n"
     ]
    }
   ],
   "source": [
    "#for  jnca get unigrams or each element is dictionary of prefix_filename and corresponding unigram words preprocessed\n",
    "file_name_final  =[]\n",
    "use_vector = []\n",
    "for i in listdir(bib_text_path_1):\n",
    "    x = listdir(bib_text_path_1+i)\n",
    "    prefix = 'pos_'\n",
    "    file_name = []\n",
    "    word_document_list = []\n",
    "    get_sentences(x,bib_text_path_1+i,word_document_list,file_name,prefix)\n",
    "    y = embed(word_document_list)\n",
    "    file_name_final = file_name_final + file_name\n",
    "    use_vector = use_vector + y\n",
    "    \n",
    "    print(i) \n",
    "    \n",
    "    #for comnet get unigrams or each element is dictionary of prefix_filename and corresponding unigram words preprocessed\n",
    "    \n",
    "    \n",
    "for i in listdir(bib_text_path_2):\n",
    "    x = listdir(bib_text_path_2+i)\n",
    "    prefix = 'neg_'\n",
    "    file_name = []\n",
    "    word_document_list = []\n",
    "    get_sentences(x,bib_text_path_2+i,word_document_list,file_name,prefix)\n",
    "    y = embed(word_document_list)\n",
    "    file_name_final = file_name_final + file_name\n",
    "    use_vector = use_vector + y\n",
    "    print(i)\n",
    "    #for comnet get unigrams or each element is dictionary of prefix_filename and corresponding unigram words preprocessed\n",
    "\n",
    "file_name = file_name_final\n",
    "y = use_vector"
   ]
  },
  {
   "cell_type": "code",
   "execution_count": null,
   "metadata": {},
   "outputs": [],
   "source": [
    "pickle.dump(file_name_final, open(DATA+\"_train_fulltext_filename.p\", \"wb\"))  # save it into a file named save.p\n",
    "pickle.dump(y, open(DATA+\"_train_fulltext_use_vector.p\", \"wb\"))  # save it into a file named save.p\n"
   ]
  },
  {
   "cell_type": "code",
   "execution_count": null,
   "metadata": {},
   "outputs": [],
   "source": [
    "bib_text_path_1 = \"/home/tirthankar/Ashish/btpfinal/dataset/\"+DATA+\"/test/positive_bib\"\n",
    "bib_text_path_2 = \"/home/tirthankar/Ashish/btpfinal/dataset/\"+DATA+\"/test/negative_bib\"\n",
    "\n",
    "file_name_final  =[]\n",
    "use_vector = []\n",
    "\n",
    "#for  jnca get unigrams or each element is dictionary of prefix_filename and corresponding unigram words preprocessed\n",
    "file_name_final  =[]\n",
    "use_vector = []\n",
    "for i in listdir(bib_text_path_1):\n",
    "    x = listdir(bib_text_path_1+i)\n",
    "    prefix = 'pos_'\n",
    "    file_name = []\n",
    "    word_document_list = []\n",
    "    get_sentences(x,bib_text_path_1+i,word_document_list,file_name,prefix)\n",
    "    y = embed(word_document_list)\n",
    "    file_name_final = file_name_final + file_name\n",
    "    use_vector = use_vector + y\n",
    "    \n",
    "    print(i) \n",
    "    \n",
    "    #for comnet get unigrams or each element is dictionary of prefix_filename and corresponding unigram words preprocessed\n",
    "    \n",
    "    \n",
    "for i in listdir(bib_text_path_2):\n",
    "    x = listdir(bib_text_path_2+i)\n",
    "    prefix = 'neg_'\n",
    "    file_name = []\n",
    "    word_document_list = []\n",
    "    get_sentences(x,bib_text_path_2+i,word_document_list,file_name,prefix)\n",
    "    y = embed(word_document_list)\n",
    "    file_name_final = file_name_final + file_name\n",
    "    use_vector = use_vector + y\n",
    "    print(i)\n",
    "    #for comnet get unigrams or each element is dictionary of prefix_filename and corresponding unigram words preprocessed\n",
    "\n",
    "file_name = file_name_final\n",
    "y = use_vector\n",
    "\n",
    "\n",
    "\n",
    "\n",
    "\n",
    "\n",
    "pickle.dump(file_name, open(DATA+\"_test_fulltext_filename.p\", \"wb\"))  # save it into a file named save.p\n",
    "pickle.dump(y, open(DATA+\"_test_fulltext_use_vector.p\", \"wb\"))  # save it into a file named save.p\n"
   ]
  }
 ],
 "metadata": {
  "kernelspec": {
   "display_name": "Python [conda env:raghav_btp]",
   "language": "python",
   "name": "conda-env-raghav_btp-py"
  },
  "language_info": {
   "codemirror_mode": {
    "name": "ipython",
    "version": 3
   },
   "file_extension": ".py",
   "mimetype": "text/x-python",
   "name": "python",
   "nbconvert_exporter": "python",
   "pygments_lexer": "ipython3",
   "version": "3.6.6"
  }
 },
 "nbformat": 4,
 "nbformat_minor": 2
}
