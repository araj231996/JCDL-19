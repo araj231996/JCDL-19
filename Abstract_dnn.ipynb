{
 "cells": [
  {
   "cell_type": "code",
   "execution_count": 1,
   "metadata": {},
   "outputs": [
    {
     "name": "stderr",
     "output_type": "stream",
     "text": [
      "Using TensorFlow backend.\n"
     ]
    }
   ],
   "source": [
    "from random import random\n",
    "import numpy as np\n",
    "from numpy import array\n",
    "from numpy import cumsum\n",
    "from keras.models import Sequential\n",
    "from keras import layers\n",
    "from keras.layers import LSTM\n",
    "from keras.callbacks import ModelCheckpoint\n",
    "from keras.layers import Dense\n",
    "from keras.layers import TimeDistributed\n",
    "from keras.layers import Bidirectional\n",
    "from sklearn.metrics import accuracy_score, f1_score, precision_score, recall_score, classification_report, confusion_matrix\n",
    "\n",
    "import pickle\n",
    "from keras.models import Model\n",
    "import os\n",
    "os.environ[\"CUDA_VISIBLE_DEVICES\"]=\"6\"\n"
   ]
  },
  {
   "cell_type": "code",
   "execution_count": null,
   "metadata": {},
   "outputs": [],
   "source": [
    "DATA = \"ARTINT\""
   ]
  },
  {
   "cell_type": "code",
   "execution_count": 2,
   "metadata": {},
   "outputs": [
    {
     "name": "stdout",
     "output_type": "stream",
     "text": [
      "Sun Jan 13 15:23:34 2019       \n",
      "+-----------------------------------------------------------------------------+\n",
      "| NVIDIA-SMI 384.111                Driver Version: 384.111                   |\n",
      "|-------------------------------+----------------------+----------------------+\n",
      "| GPU  Name        Persistence-M| Bus-Id        Disp.A | Volatile Uncorr. ECC |\n",
      "| Fan  Temp  Perf  Pwr:Usage/Cap|         Memory-Usage | GPU-Util  Compute M. |\n",
      "|===============================+======================+======================|\n",
      "|   0  GeForce GTX 108...  Off  | 00000000:04:00.0  On |                  N/A |\n",
      "| 43%   67C    P2    77W / 250W |   9081MiB / 11172MiB |     12%      Default |\n",
      "+-------------------------------+----------------------+----------------------+\n",
      "|   1  GeForce GTX 108...  Off  | 00000000:05:00.0 Off |                  N/A |\n",
      "| 23%   37C    P8    16W / 250W |    506MiB / 11172MiB |      0%      Default |\n",
      "+-------------------------------+----------------------+----------------------+\n",
      "|   2  GeForce GTX 108...  Off  | 00000000:08:00.0 Off |                  N/A |\n",
      "|  0%   37C    P8    17W / 250W |      2MiB / 11172MiB |      0%      Default |\n",
      "+-------------------------------+----------------------+----------------------+\n",
      "|   3  GeForce GTX 108...  Off  | 00000000:0A:00.0 Off |                  N/A |\n",
      "| 29%   51C    P2    77W / 250W |   6318MiB / 11172MiB |     77%      Default |\n",
      "+-------------------------------+----------------------+----------------------+\n",
      "|   4  GeForce GTX 108...  Off  | 00000000:84:00.0 Off |                  N/A |\n",
      "|  0%   40C    P8    18W / 250W |      2MiB / 11172MiB |      0%      Default |\n",
      "+-------------------------------+----------------------+----------------------+\n",
      "|   5  GeForce GTX 108...  Off  | 00000000:85:00.0 Off |                  N/A |\n",
      "| 23%   36C    P8    17W / 250W |    706MiB / 11172MiB |      0%      Default |\n",
      "+-------------------------------+----------------------+----------------------+\n",
      "|   6  GeForce GTX 108...  Off  | 00000000:88:00.0 Off |                  N/A |\n",
      "| 26%   38C    P8    17W / 250W |      2MiB / 11172MiB |      0%      Default |\n",
      "+-------------------------------+----------------------+----------------------+\n",
      "|   7  GeForce GTX 108...  Off  | 00000000:89:00.0 Off |                  N/A |\n",
      "|  0%   35C    P8    18W / 250W |      2MiB / 11172MiB |      0%      Default |\n",
      "+-------------------------------+----------------------+----------------------+\n",
      "                                                                               \n",
      "+-----------------------------------------------------------------------------+\n",
      "| Processes:                                                       GPU Memory |\n",
      "|  GPU       PID   Type   Process name                             Usage      |\n",
      "|=============================================================================|\n",
      "|    0      4670      G   /usr/lib/xorg/Xorg                            50MiB |\n",
      "|    0     19107      C   python                                      8809MiB |\n",
      "|    0     24425      C   ...1/tanik/anaconda3/envs/tfgpu/bin/python   209MiB |\n",
      "|    1     46423      C   ...1/tanik/anaconda3/envs/tfgpu/bin/python   495MiB |\n",
      "|    3     15364      C   /home1/dushyant/anaconda2/bin/python         213MiB |\n",
      "|    3     22182      C   python                                      2291MiB |\n",
      "|    3     22346      C   python                                      1267MiB |\n",
      "|    3     22551      C   python                                      1267MiB |\n",
      "|    3     22758      C   python                                      1267MiB |\n",
      "|    5     13418      C   /home1/tirthankar/miniconda2/bin/python      695MiB |\n",
      "+-----------------------------------------------------------------------------+\n"
     ]
    }
   ],
   "source": [
    "!nvidia-smi"
   ]
  },
  {
   "cell_type": "code",
   "execution_count": 3,
   "metadata": {},
   "outputs": [
    {
     "name": "stdout",
     "output_type": "stream",
     "text": [
      "hi\n"
     ]
    }
   ],
   "source": [
    "train_filename = pickle.load(open(DATA+\"_train_abstract_filename.p\", \"rb\"))\n",
    "train_use_vector = pickle.load(open(DATA+\"_train_abstract_use_vector.p\", \"rb\"))\n",
    "test_filename = pickle.load(open(DATA+\"_test_abstract_filename.p\", \"rb\"))\n",
    "test_use_vector = pickle.load(open(DATA+\"_test_abstract_use_vector.p\", \"rb\"))\n"
   ]
  },
  {
   "cell_type": "code",
   "execution_count": 4,
   "metadata": {},
   "outputs": [
    {
     "name": "stdout",
     "output_type": "stream",
     "text": [
      "500\n",
      "1000\n",
      "1500\n",
      "2000\n",
      "2500\n",
      "3000\n"
     ]
    }
   ],
   "source": [
    "y = []\n",
    "c = 0\n",
    "for i in train_filename:\n",
    "    c = c + 1\n",
    "    if c%500 == 0:\n",
    "        print(c)\n",
    "    if \"pos_\" in i:\n",
    "        y.append(1.0)\n",
    "    else :\n",
    "        y.append(0.0)"
   ]
  },
  {
   "cell_type": "code",
   "execution_count": 5,
   "metadata": {},
   "outputs": [
    {
     "name": "stdout",
     "output_type": "stream",
     "text": [
      "500\n"
     ]
    }
   ],
   "source": [
    "y_test = []\n",
    "c = 0\n",
    "for i in test_filename:\n",
    "    c = c + 1\n",
    "    if c%500 == 0:\n",
    "        print(c)\n",
    "    if \"pos_\" in i:\n",
    "        y_test.append(1.0)\n",
    "    else :\n",
    "        y_test.append(0.0)"
   ]
  },
  {
   "cell_type": "code",
   "execution_count": 6,
   "metadata": {},
   "outputs": [
    {
     "name": "stdout",
     "output_type": "stream",
     "text": [
      "(3056, 25, 512)\n",
      "(768, 25, 512)\n"
     ]
    }
   ],
   "source": [
    "print(train_use_vector.shape)\n",
    "print(test_use_vector.shape)"
   ]
  },
  {
   "cell_type": "code",
   "execution_count": 7,
   "metadata": {},
   "outputs": [
    {
     "name": "stdout",
     "output_type": "stream",
     "text": [
      "_________________________________________________________________\n",
      "Layer (type)                 Output Shape              Param #   \n",
      "=================================================================\n",
      "bidirectional_1 (Bidirection (None, 25, 200)           490400    \n",
      "_________________________________________________________________\n",
      "bidirectional_2 (Bidirection (None, 25, 100)           100400    \n",
      "_________________________________________________________________\n",
      "bidirectional_3 (Bidirection (None, 100)               60400     \n",
      "_________________________________________________________________\n",
      "dense_1 (Dense)              (None, 50)                5050      \n",
      "_________________________________________________________________\n",
      "dropout_1 (Dropout)          (None, 50)                0         \n",
      "_________________________________________________________________\n",
      "dense_2 (Dense)              (None, 100)               5100      \n",
      "_________________________________________________________________\n",
      "dropout_2 (Dropout)          (None, 100)               0         \n",
      "_________________________________________________________________\n",
      "dense_3 (Dense)              (None, 100)               10100     \n",
      "_________________________________________________________________\n",
      "dropout_3 (Dropout)          (None, 100)               0         \n",
      "_________________________________________________________________\n",
      "dense_4 (Dense)              (None, 1)                 101       \n",
      "=================================================================\n",
      "Total params: 671,551\n",
      "Trainable params: 671,551\n",
      "Non-trainable params: 0\n",
      "_________________________________________________________________\n"
     ]
    }
   ],
   "source": [
    "\n",
    "n_timesteps = train_use_vector[0].shape[0]\n",
    "# define LSTM\n",
    "model = Sequential()\n",
    "model.add(Bidirectional(LSTM(100, return_sequences=True), input_shape=(n_timesteps, 512)))\n",
    "model.add(Bidirectional(LSTM(50, return_sequences=True)))\n",
    "model.add(Bidirectional(LSTM(50)))\n",
    "model.add(layers.Dense(50, activation = \"relu\"))\n",
    "model.add(layers.Dropout(0.3, noise_shape=None, seed=None))\n",
    "model.add(layers.Dense(100, activation = \"relu\"))\n",
    "model.add(layers.Dropout(0.3, noise_shape=None, seed=None))\n",
    "model.add(layers.Dense(100, activation = \"relu\"))\n",
    "model.add(layers.Dropout(0.3, noise_shape=None, seed=None))\n",
    "\n",
    "# Output- Layer\n",
    "model.add(layers.Dense(1, activation = \"sigmoid\"))\n",
    "\n",
    "model.summary()\n",
    "checkpoint = ModelCheckpoint(DATA+'model-ABSTRACT-best.h5', verbose=1, monitor='val_loss',save_best_only=True, mode='auto')  \n",
    "\n",
    "model.compile(loss='binary_crossentropy', optimizer='adam', metrics=['acc'])\n",
    "\n"
   ]
  },
  {
   "cell_type": "code",
   "execution_count": 8,
   "metadata": {
    "scrolled": true
   },
   "outputs": [
    {
     "name": "stdout",
     "output_type": "stream",
     "text": [
      "Train on 3056 samples, validate on 768 samples\n",
      "Epoch 1/10\n",
      "3056/3056 [==============================] - 20s 6ms/step - loss: 0.5405 - acc: 0.7817 - val_loss: 0.4146 - val_acc: 0.8294\n",
      "\n",
      "Epoch 00001: val_loss improved from inf to 0.41458, saving model to model-best.h5\n",
      "Epoch 2/10\n",
      "3056/3056 [==============================] - 12s 4ms/step - loss: 0.3760 - acc: 0.8537 - val_loss: 0.3413 - val_acc: 0.8529\n",
      "\n",
      "Epoch 00002: val_loss improved from 0.41458 to 0.34132, saving model to model-best.h5\n",
      "Epoch 3/10\n",
      "3056/3056 [==============================] - 12s 4ms/step - loss: 0.3064 - acc: 0.8789 - val_loss: 0.2676 - val_acc: 0.8854\n",
      "\n",
      "Epoch 00003: val_loss improved from 0.34132 to 0.26765, saving model to model-best.h5\n",
      "Epoch 4/10\n",
      "3056/3056 [==============================] - 12s 4ms/step - loss: 0.2607 - acc: 0.8943 - val_loss: 0.2764 - val_acc: 0.8776\n",
      "\n",
      "Epoch 00004: val_loss did not improve from 0.26765\n",
      "Epoch 5/10\n",
      "3056/3056 [==============================] - 12s 4ms/step - loss: 0.2392 - acc: 0.9077 - val_loss: 0.2923 - val_acc: 0.8867\n",
      "\n",
      "Epoch 00005: val_loss did not improve from 0.26765\n",
      "Epoch 6/10\n",
      "3056/3056 [==============================] - 12s 4ms/step - loss: 0.2195 - acc: 0.9107 - val_loss: 0.2332 - val_acc: 0.8958\n",
      "\n",
      "Epoch 00006: val_loss improved from 0.26765 to 0.23317, saving model to model-best.h5\n",
      "Epoch 7/10\n",
      "3056/3056 [==============================] - 12s 4ms/step - loss: 0.2105 - acc: 0.9146 - val_loss: 0.2312 - val_acc: 0.8958\n",
      "\n",
      "Epoch 00007: val_loss improved from 0.23317 to 0.23116, saving model to model-best.h5\n",
      "Epoch 8/10\n",
      "3056/3056 [==============================] - 12s 4ms/step - loss: 0.2071 - acc: 0.9156 - val_loss: 0.2217 - val_acc: 0.8984\n",
      "\n",
      "Epoch 00008: val_loss improved from 0.23116 to 0.22166, saving model to model-best.h5\n",
      "Epoch 9/10\n",
      "3056/3056 [==============================] - 13s 4ms/step - loss: 0.1817 - acc: 0.9251 - val_loss: 0.2019 - val_acc: 0.9062\n",
      "\n",
      "Epoch 00009: val_loss improved from 0.22166 to 0.20194, saving model to model-best.h5\n",
      "Epoch 10/10\n",
      "3056/3056 [==============================] - 13s 4ms/step - loss: 0.1728 - acc: 0.9310 - val_loss: 0.1941 - val_acc: 0.9219\n",
      "\n",
      "Epoch 00010: val_loss improved from 0.20194 to 0.19411, saving model to model-best.h5\n"
     ]
    }
   ],
   "source": [
    "results = model.fit( train_use_vector,y, epochs= 10, batch_size = 64,validation_data=(test_use_vector,y_test),callbacks=[checkpoint])\n"
   ]
  },
  {
   "cell_type": "code",
   "execution_count": 9,
   "metadata": {},
   "outputs": [
    {
     "data": {
      "text/plain": [
       "[<keras.layers.wrappers.Bidirectional at 0x7f6b2f0fff98>,\n",
       " <keras.layers.wrappers.Bidirectional at 0x7f6a7ec02588>,\n",
       " <keras.layers.wrappers.Bidirectional at 0x7f6a5194df28>,\n",
       " <keras.layers.core.Dense at 0x7f6a7ec02940>,\n",
       " <keras.layers.core.Dropout at 0x7f6a51972320>,\n",
       " <keras.layers.core.Dense at 0x7f6a514c4d68>,\n",
       " <keras.layers.core.Dropout at 0x7f6a514c4860>,\n",
       " <keras.layers.core.Dense at 0x7f6a51493518>,\n",
       " <keras.layers.core.Dropout at 0x7f6a5144ff60>,\n",
       " <keras.layers.core.Dense at 0x7f6a5144f240>]"
      ]
     },
     "execution_count": 9,
     "metadata": {},
     "output_type": "execute_result"
    }
   ],
   "source": [
    "model.layers"
   ]
  },
  {
   "cell_type": "code",
   "execution_count": 10,
   "metadata": {},
   "outputs": [],
   "source": [
    "#model.load_weights('model-best.h5')\n",
    "\n",
    "new_model = Model(inputs = model.inputs, outputs = model.layers[-3].output)\n",
    "\n",
    "new_model.load_weights(DATA+'model-ABSTRACT-best.h5', by_name = True)\n",
    "train_prediction = new_model.predict(train_use_vector)\n",
    "test_prediction = new_model.predict(test_use_vector)"
   ]
  },
  {
   "cell_type": "code",
   "execution_count": 11,
   "metadata": {},
   "outputs": [],
   "source": [
    "np.save(DATA+'_train_abstract_modality_feature',train_prediction)\n",
    "\n",
    "np.save(DATA+'_test_abstract_modality_feature',test_prediction)\n"
   ]
  },
  {
   "cell_type": "code",
   "execution_count": 12,
   "metadata": {},
   "outputs": [],
   "source": [
    "predicted =  model.predict(test_use_vector)\n",
    "for i in range(len(predicted)):\n",
    "    if predicted[i] >= 0.5:\n",
    "        predicted[i] = 1.0\n",
    "    else :\n",
    "        predicted[i] = 0.0"
   ]
  },
  {
   "cell_type": "code",
   "execution_count": 13,
   "metadata": {},
   "outputs": [
    {
     "name": "stdout",
     "output_type": "stream",
     "text": [
      "fscore 0.9216624959199217\n",
      "precision 0.9216624959199217\n",
      "recall 0.9216624959199217\n",
      "             precision    recall  f1-score   support\n",
      "\n",
      "        0.0       0.92      0.92      0.92       364\n",
      "        1.0       0.93      0.93      0.93       404\n",
      "\n",
      "avg / total       0.92      0.92      0.92       768\n",
      "\n"
     ]
    }
   ],
   "source": [
    "print(\"fscore\",f1_score(y_test, predicted, average=\"macro\"))\n",
    "print(\"precision\",precision_score(y_test, predicted, average=\"macro\"))\n",
    "print(\"recall\",recall_score(y_test, predicted, average=\"macro\"))    \n",
    "\n",
    "x = classification_report(y_test,predicted)\n",
    "print(x)"
   ]
  },
  {
   "cell_type": "code",
   "execution_count": 14,
   "metadata": {},
   "outputs": [],
   "source": [
    "model.save(DATA+'onlyabstractmodel')"
   ]
  },
  {
   "cell_type": "code",
   "execution_count": 15,
   "metadata": {},
   "outputs": [],
   "source": [
    "pickle.dump(train_filename, open(DATA+\"_train_abstract_filename.p\", \"wb\"))  # save it into a file named save.p\n",
    "pickle.dump(test_filename, open(DATA+\"_test_abstract_filename.p\", \"wb\"))  # save it into a file named save.p\n"
   ]
  },
  {
   "cell_type": "code",
   "execution_count": null,
   "metadata": {},
   "outputs": [],
   "source": []
  }
 ],
 "metadata": {
  "kernelspec": {
   "display_name": "Python [default]",
   "language": "python",
   "name": "python3"
  },
  "language_info": {
   "codemirror_mode": {
    "name": "ipython",
    "version": 3
   },
   "file_extension": ".py",
   "mimetype": "text/x-python",
   "name": "python",
   "nbconvert_exporter": "python",
   "pygments_lexer": "ipython3",
   "version": "3.6.6"
  }
 },
 "nbformat": 4,
 "nbformat_minor": 2
}
